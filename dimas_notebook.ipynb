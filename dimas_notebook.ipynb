{
  "nbformat": 4,
  "nbformat_minor": 0,
  "metadata": {
    "orig_nbformat": 2,
    "file_extension": ".py",
    "mimetype": "text/x-python",
    "name": "python",
    "npconvert_exporter": "python",
    "pygments_lexer": "ipython3",
    "version": 3,
    "colab": {
      "name": "dimas_notebook.ipynb",
      "provenance": [],
      "toc_visible": true
    },
    "kernelspec": {
      "name": "python3",
      "display_name": "Python 3"
    }
  },
  "cells": [
    {
      "cell_type": "markdown",
      "metadata": {
        "id": "xwBAhsnTadi3",
        "colab_type": "text"
      },
      "source": [
        "## This is Dimas' Notebook"
      ]
    },
    {
      "cell_type": "markdown",
      "metadata": {
        "id": "WSMO2e0Ca3tU",
        "colab_type": "text"
      },
      "source": [
        "# Basic COVID-19 Detection by X-Ray Image Classification"
      ]
    },
    {
      "cell_type": "markdown",
      "metadata": {
        "id": "n_Kecj9IbFCT",
        "colab_type": "text"
      },
      "source": [
        "These code mainly adapted from https://www.pyimagesearch.com/2020/03/16/detecting-covid-19-in-x-ray-images-with-keras-tensorflow-and-deep-learning/"
      ]
    },
    {
      "cell_type": "markdown",
      "metadata": {
        "id": "u3tF64VybOiZ",
        "colab_type": "text"
      },
      "source": [
        "First we import the necessary packages. For building and training models, we use **tf.keras**. We also use **scikit-learn** for data preprocessing and report. **matplotlib** used for data visualization. For data building and processing we use **os**, **imutils**, **numpy**, and **cv2**."
      ]
    },
    {
      "cell_type": "code",
      "metadata": {
        "id": "ZKzt0tiAbYLY",
        "colab_type": "code",
        "colab": {}
      },
      "source": [
        "from tensorflow.keras.preprocessing.image import ImageDataGenerator\n",
        "from tensorflow.keras.applications import VGG16\n",
        "from tensorflow.keras.layers import AveragePooling2D\n",
        "from tensorflow.keras.layers import Dropout\n",
        "from tensorflow.keras.layers import Flatten\n",
        "from tensorflow.keras.layers import Dense\n",
        "from tensorflow.keras.layers import Input\n",
        "from tensorflow.keras.models import Model\n",
        "from tensorflow.keras.optimizers import Adam\n",
        "from tensorflow.keras.utils import to_categorical\n",
        "from sklearn.preprocessing import LabelBinarizer\n",
        "from sklearn.model_selection import train_test_split\n",
        "from sklearn.metrics import classification_report\n",
        "from sklearn.metrics import confusion_matrix\n",
        "from imutils import paths\n",
        "import matplotlib.pyplot as plt\n",
        "import numpy as np\n",
        "import cv2\n",
        "import os"
      ],
      "execution_count": 0,
      "outputs": []
    },
    {
      "cell_type": "markdown",
      "metadata": {
        "id": "dYxVoL89akwO",
        "colab_type": "text"
      },
      "source": [
        "## Import the dataset"
      ]
    },
    {
      "cell_type": "markdown",
      "metadata": {
        "id": "zd6HN-95LqYr",
        "colab_type": "text"
      },
      "source": [
        "We used dataset from public source provided by ..."
      ]
    },
    {
      "cell_type": "code",
      "metadata": {
        "id": "tk3cGx4EawGX",
        "colab_type": "code",
        "outputId": "356614d6-b731-469b-fafc-bf52719b1f31",
        "colab": {
          "base_uri": "https://localhost:8080/",
          "height": 187
        }
      },
      "source": [
        "GIT_PATH = \"https://github.com/sanggusti/bangkit_assessment_1.git\"\n",
        "!git clone \"{GIT_PATH}\"\n",
        "%cd ./bangkit_assessment_1\n",
        "%ls\n",
        "%pwd"
      ],
      "execution_count": 0,
      "outputs": [
        {
          "output_type": "stream",
          "text": [
            "Cloning into 'bangkit_assessment_1'...\n",
            "remote: Enumerating objects: 70, done.\u001b[K\n",
            "remote: Counting objects: 100% (70/70), done.\u001b[K\n",
            "remote: Compressing objects: 100% (65/65), done.\u001b[K\n",
            "remote: Total 70 (delta 4), reused 5 (delta 2), pack-reused 0\u001b[K\n",
            "Unpacking objects: 100% (70/70), done.\n",
            "/content/bangkit_assessment_1\n",
            "arief_notebook.ipynb  dimas_notebook.ipynb  README.md\n",
            "\u001b[0m\u001b[01;34mdataset\u001b[0m/              gusti_notebook.ipynb\n"
          ],
          "name": "stdout"
        },
        {
          "output_type": "execute_result",
          "data": {
            "text/plain": [
              "'/content/bangkit_assessment_1'"
            ]
          },
          "metadata": {
            "tags": []
          },
          "execution_count": 1
        }
      ]
    },
    {
      "cell_type": "markdown",
      "metadata": {
        "id": "RKvCOoapjnxu",
        "colab_type": "text"
      },
      "source": [
        "### Set directory variable"
      ]
    },
    {
      "cell_type": "code",
      "metadata": {
        "id": "QBwx8KUrlNOq",
        "colab_type": "code",
        "colab": {}
      },
      "source": [
        "args = {'dataset': 'dataset',\n",
        "        'plot': 'plot.png',\n",
        "        'model': 'covid19.model'}"
      ],
      "execution_count": 0,
      "outputs": []
    },
    {
      "cell_type": "markdown",
      "metadata": {
        "id": "fHwfVGtAdRNc",
        "colab_type": "text"
      },
      "source": [
        "### Grab the list of images in our dataset directory, then initialize the list of data (i.e., images) and class images"
      ]
    },
    {
      "cell_type": "code",
      "metadata": {
        "id": "Oq4CO7S0csvG",
        "colab_type": "code",
        "outputId": "f7b68312-d37b-406c-8a9e-aa29a84e9115",
        "colab": {
          "base_uri": "https://localhost:8080/",
          "height": 71
        }
      },
      "source": [
        "print(\"[INFO] loading images...\")\n",
        "imagePaths = list(paths.list_images(\"dataset\")\n",
        "print(imagePaths)\n",
        "data = []\n",
        "labels = []"
      ],
      "execution_count": 0,
      "outputs": [
        {
          "output_type": "stream",
          "text": [
            "[INFO] loading images...\n",
            "['dataset/normal/person1599_virus_2776.jpeg', 'dataset/normal/IM-0033-0001-0001.jpeg', 'dataset/normal/person939_bacteria_2864.jpeg', 'dataset/normal/person1290_virus_2215.jpeg', 'dataset/normal/person1_bacteria_2.jpeg', 'dataset/normal/person259_bacteria_1220.jpeg', 'dataset/normal/person438_bacteria_1893.jpeg', 'dataset/normal/person1102_bacteria_3043.jpeg', 'dataset/normal/person1830_bacteria_4693.jpeg', 'dataset/normal/person339_bacteria_1574.jpeg', 'dataset/normal/person378_virus_761.jpeg', 'dataset/normal/person525_bacteria_2216.jpeg', 'dataset/normal/person934_virus_1595.jpeg', 'dataset/normal/IM-0466-0001.jpeg', 'dataset/normal/NORMAL2-IM-0315-0001.jpeg', 'dataset/normal/person989_virus_1667.jpeg', 'dataset/normal/NORMAL2-IM-0696-0001.jpeg', 'dataset/normal/person1558_bacteria_4066.jpeg', 'dataset/normal/person651_bacteria_2543.jpeg', 'dataset/normal/NORMAL2-IM-1179-0001.jpeg', 'dataset/normal/person925_virus_1582.jpeg', 'dataset/normal/person612_bacteria_2478.jpeg', 'dataset/normal/NORMAL2-IM-0869-0001.jpeg', 'dataset/normal/IM-0240-0001.jpeg', 'dataset/normal/person1935_bacteria_4849.jpeg', 'dataset/covid/lancet-case2a.jpg', 'dataset/covid/nejmoa2001191_f4.jpeg', 'dataset/covid/1-s2.0-S0929664620300449-gr2_lrg-d.jpg', 'dataset/covid/1-s2.0-S0929664620300449-gr2_lrg-a.jpg', 'dataset/covid/auntminnie-a-2020_01_28_23_51_6665_2020_01_28_Vietnam_coronavirus.jpeg', 'dataset/covid/nCoV-radiol.2020200269.fig1-day7.jpeg', 'dataset/covid/ryct.2020200034.fig5-day4.jpeg', 'dataset/covid/ryct.2020200028.fig1a.jpeg', 'dataset/covid/auntminnie-b-2020_01_28_23_51_6665_2020_01_28_Vietnam_coronavirus.jpeg', 'dataset/covid/ryct.2020200034.fig5-day0.jpeg', 'dataset/covid/1-s2.0-S0140673620303706-fx1_lrg.jpg', 'dataset/covid/nejmoa2001191_f1-PA.jpeg', 'dataset/covid/ryct.2020200034.fig2.jpeg', 'dataset/covid/nejmc2001573_f1a.jpeg', 'dataset/covid/lancet-case2b.jpg', 'dataset/covid/1-s2.0-S0929664620300449-gr2_lrg-b.jpg', 'dataset/covid/nejmoa2001191_f3-PA.jpeg', 'dataset/covid/nejmc2001573_f1b.jpeg', 'dataset/covid/radiol.2020200490.fig3.jpeg', 'dataset/covid/auntminnie-c-2020_01_28_23_51_6665_2020_01_28_Vietnam_coronavirus.jpeg', 'dataset/covid/1-s2.0-S0929664620300449-gr2_lrg-c.jpg', 'dataset/covid/nejmoa2001191_f5-PA.jpeg', 'dataset/covid/auntminnie-d-2020_01_28_23_51_6665_2020_01_28_Vietnam_coronavirus.jpeg', 'dataset/covid/radiopedia-covid-19-pneumonia-2.jpg', 'dataset/covid/ryct.2020200034.fig5-day7.jpeg']\n"
          ],
          "name": "stdout"
        }
      ]
    },
    {
      "cell_type": "markdown",
      "metadata": {
        "id": "tifjGH9MNMyr",
        "colab_type": "text"
      },
      "source": [
        "## Preprocess the data"
      ]
    },
    {
      "cell_type": "markdown",
      "metadata": {
        "id": "4VmIvYDDRJR6",
        "colab_type": "text"
      },
      "source": [
        "### Feature and label building"
      ]
    },
    {
      "cell_type": "markdown",
      "metadata": {
        "id": "KGqDDFakdv3I",
        "colab_type": "text"
      },
      "source": [
        "Building labels and pixel data by looping over the image paths from the dataset"
      ]
    },
    {
      "cell_type": "code",
      "metadata": {
        "id": "5IjoPu1Cdu2C",
        "colab_type": "code",
        "colab": {}
      },
      "source": [
        "for imagePath in imagePaths:\n",
        "\t# extract the class label from the filename\n",
        "\tlabel = imagePath.split(os.path.sep)[-2]\n",
        "\n",
        "\t# load the image, swap color channels, and resize it to be a fixed\n",
        "\t# 224x224 pixels while ignoring aspect ratio\n",
        "\timage = cv2.imread(imagePath)\n",
        "\timage = cv2.cvtColor(image, cv2.COLOR_BGR2RGB)\n",
        "\timage = cv2.resize(image, (224, 224))\n",
        "\n",
        "\t# update the data and labels lists, respectively\n",
        "\tdata.append(image)\n",
        "\tlabels.append(label)"
      ],
      "execution_count": 0,
      "outputs": []
    },
    {
      "cell_type": "markdown",
      "metadata": {
        "id": "0920nm76d4Hs",
        "colab_type": "text"
      },
      "source": [
        "Normalization of pixel value and convert to numpy array"
      ]
    },
    {
      "cell_type": "code",
      "metadata": {
        "id": "6QNL7ibcdzIj",
        "colab_type": "code",
        "colab": {}
      },
      "source": [
        "data = np.array(data) / 255.0\n",
        "labels = np.array(labels)"
      ],
      "execution_count": 0,
      "outputs": []
    },
    {
      "cell_type": "markdown",
      "metadata": {
        "id": "n3zmzxdQd9ON",
        "colab_type": "text"
      },
      "source": [
        "Build one-hot encoding on the labels"
      ]
    },
    {
      "cell_type": "code",
      "metadata": {
        "id": "0J2yOK7md_y6",
        "colab_type": "code",
        "colab": {}
      },
      "source": [
        "lb = LabelBinarizer()\n",
        "labels = lb.fit_transform(labels)\n",
        "labels = to_categorical(labels)"
      ],
      "execution_count": 0,
      "outputs": []
    },
    {
      "cell_type": "markdown",
      "metadata": {
        "id": "bHZEuVVDeBv9",
        "colab_type": "text"
      },
      "source": [
        "### Data partition\n",
        "Partition the data into training and testing splits using 80% of the data for training and the remaining 20% for testing"
      ]
    },
    {
      "cell_type": "code",
      "metadata": {
        "id": "FK0h4tnQeH56",
        "colab_type": "code",
        "colab": {}
      },
      "source": [
        "(trainX, testX, trainY, testY) = train_test_split(data, labels,\n",
        "\ttest_size=0.20, stratify=labels, random_state=42)"
      ],
      "execution_count": 0,
      "outputs": []
    },
    {
      "cell_type": "markdown",
      "metadata": {
        "id": "0SoyFWCZeLe0",
        "colab_type": "text"
      },
      "source": [
        "### Training data augmentation\n",
        "Initialize the training data augmentation object"
      ]
    },
    {
      "cell_type": "code",
      "metadata": {
        "id": "kzi3yvZYeSOy",
        "colab_type": "code",
        "colab": {}
      },
      "source": [
        "trainAug = ImageDataGenerator(\n",
        "\trotation_range=15,\n",
        "\tfill_mode=\"nearest\")"
      ],
      "execution_count": 0,
      "outputs": []
    },
    {
      "cell_type": "markdown",
      "metadata": {
        "id": "gWaFMG29M8Mb",
        "colab_type": "text"
      },
      "source": [
        "## Build the model"
      ]
    },
    {
      "cell_type": "markdown",
      "metadata": {
        "id": "_echi_0APEis",
        "colab_type": "text"
      },
      "source": [
        "### Hyperparameter tuning"
      ]
    },
    {
      "cell_type": "code",
      "metadata": {
        "id": "FweemVCFPH9c",
        "colab_type": "code",
        "colab": {}
      },
      "source": [
        "INIT_LR = 1e-3\n",
        "EPOCHS = 25\n",
        "BS = 8"
      ],
      "execution_count": 0,
      "outputs": []
    },
    {
      "cell_type": "markdown",
      "metadata": {
        "id": "YByvq-9oRwn_",
        "colab_type": "text"
      },
      "source": [
        "### Load the network model"
      ]
    },
    {
      "cell_type": "markdown",
      "metadata": {
        "id": "QsDuC6ngeUls",
        "colab_type": "text"
      },
      "source": [
        "Load the VGG16 network, ensuring the head FC layer sets are left off"
      ]
    },
    {
      "cell_type": "code",
      "metadata": {
        "id": "InLljPNaeYI2",
        "colab_type": "code",
        "outputId": "0133e900-11e5-49a8-d095-f4edb2ab7a8f",
        "colab": {
          "base_uri": "https://localhost:8080/",
          "height": 51
        }
      },
      "source": [
        "baseModel = VGG16(weights=\"imagenet\", include_top=False,\n",
        "\tinput_tensor=Input(shape=(224, 224, 3)))"
      ],
      "execution_count": 0,
      "outputs": [
        {
          "output_type": "stream",
          "text": [
            "Downloading data from https://storage.googleapis.com/tensorflow/keras-applications/vgg16/vgg16_weights_tf_dim_ordering_tf_kernels_notop.h5\n",
            "58892288/58889256 [==============================] - 1s 0us/step\n"
          ],
          "name": "stdout"
        }
      ]
    },
    {
      "cell_type": "markdown",
      "metadata": {
        "id": "B571TxNMebs_",
        "colab_type": "text"
      },
      "source": [
        "Construct the head of the model that will be placed on top of the the base model"
      ]
    },
    {
      "cell_type": "code",
      "metadata": {
        "id": "9B6da8LIehJ-",
        "colab_type": "code",
        "colab": {}
      },
      "source": [
        "headModel = baseModel.output\n",
        "headModel = AveragePooling2D(pool_size=(4, 4))(headModel)\n",
        "headModel = Flatten(name=\"flatten\")(headModel)\n",
        "headModel = Dense(64, activation=\"relu\")(headModel)\n",
        "headModel = Dropout(0.5)(headModel)\n",
        "headModel = Dense(2, activation=\"softmax\")(headModel)"
      ],
      "execution_count": 0,
      "outputs": []
    },
    {
      "cell_type": "markdown",
      "metadata": {
        "id": "cnPX4oJ9envZ",
        "colab_type": "text"
      },
      "source": [
        "Place the head FC model on top of the base model (this will become the actual model we will train)"
      ]
    },
    {
      "cell_type": "code",
      "metadata": {
        "id": "QLnZSsnqelKN",
        "colab_type": "code",
        "colab": {}
      },
      "source": [
        "model = Model(inputs=baseModel.input, outputs=headModel)"
      ],
      "execution_count": 0,
      "outputs": []
    },
    {
      "cell_type": "markdown",
      "metadata": {
        "id": "eW82dDTceriO",
        "colab_type": "text"
      },
      "source": [
        "Loop over all layers in the base model and freeze them so they will *not* be updated during the first training process"
      ]
    },
    {
      "cell_type": "code",
      "metadata": {
        "id": "hTSg-mYDeudx",
        "colab_type": "code",
        "colab": {}
      },
      "source": [
        "for layer in baseModel.layers:\n",
        "\tlayer.trainable = False"
      ],
      "execution_count": 0,
      "outputs": []
    },
    {
      "cell_type": "markdown",
      "metadata": {
        "id": "Nw9zNjpcewtl",
        "colab_type": "text"
      },
      "source": [
        "### Compile the model"
      ]
    },
    {
      "cell_type": "code",
      "metadata": {
        "id": "_NJBceqJe0mJ",
        "colab_type": "code",
        "outputId": "3dd3aeed-bab0-400d-d3b3-7c27c6564f7d",
        "colab": {
          "base_uri": "https://localhost:8080/",
          "height": 34
        }
      },
      "source": [
        "print(\"[INFO] compiling model...\")\n",
        "opt = Adam(lr=INIT_LR, decay=INIT_LR / EPOCHS)\n",
        "model.compile(loss=\"binary_crossentropy\", optimizer=opt,\n",
        "\tmetrics=[\"accuracy\"])"
      ],
      "execution_count": 0,
      "outputs": [
        {
          "output_type": "stream",
          "text": [
            "[INFO] compiling model...\n"
          ],
          "name": "stdout"
        }
      ]
    },
    {
      "cell_type": "markdown",
      "metadata": {
        "id": "VMD1Ty_oMvZm",
        "colab_type": "text"
      },
      "source": [
        "## Train the model"
      ]
    },
    {
      "cell_type": "markdown",
      "metadata": {
        "id": "ataiZOiKe5du",
        "colab_type": "text"
      },
      "source": [
        "### Train the head of the network"
      ]
    },
    {
      "cell_type": "code",
      "metadata": {
        "id": "MpiC-2O3e780",
        "colab_type": "code",
        "outputId": "70981a4d-149e-46d9-c3a4-3333df54bfb1",
        "colab": {
          "base_uri": "https://localhost:8080/",
          "height": 955
        }
      },
      "source": [
        "print(\"[INFO] training head...\")\n",
        "H = model.fit_generator(\n",
        "\ttrainAug.flow(trainX, trainY, batch_size=BS),\n",
        "\tsteps_per_epoch=len(trainX) // BS,\n",
        "\tvalidation_data=(testX, testY),\n",
        "\tvalidation_steps=len(testX) // BS,\n",
        "\tepochs=EPOCHS)"
      ],
      "execution_count": 0,
      "outputs": [
        {
          "output_type": "stream",
          "text": [
            "[INFO] training head...\n",
            "WARNING:tensorflow:From <ipython-input-17-88f7e153467d>:7: Model.fit_generator (from tensorflow.python.keras.engine.training) is deprecated and will be removed in a future version.\n",
            "Instructions for updating:\n",
            "Please use Model.fit, which supports generators.\n",
            "Epoch 1/25\n",
            "5/5 [==============================] - 22s 4s/step - loss: 0.8170 - accuracy: 0.4500 - val_loss: 0.7281 - val_accuracy: 0.5000\n",
            "Epoch 2/25\n",
            "5/5 [==============================] - 21s 4s/step - loss: 0.6994 - accuracy: 0.6250 - val_loss: 0.6859 - val_accuracy: 0.6000\n",
            "Epoch 3/25\n",
            "5/5 [==============================] - 21s 4s/step - loss: 0.7823 - accuracy: 0.4750 - val_loss: 0.6696 - val_accuracy: 0.5000\n",
            "Epoch 4/25\n",
            "5/5 [==============================] - 21s 4s/step - loss: 0.6955 - accuracy: 0.5500 - val_loss: 0.6471 - val_accuracy: 0.7000\n",
            "Epoch 5/25\n",
            "5/5 [==============================] - 21s 4s/step - loss: 0.5637 - accuracy: 0.7000 - val_loss: 0.6318 - val_accuracy: 0.6000\n",
            "Epoch 6/25\n",
            "5/5 [==============================] - 21s 4s/step - loss: 0.6225 - accuracy: 0.6000 - val_loss: 0.6208 - val_accuracy: 0.6000\n",
            "Epoch 7/25\n",
            "5/5 [==============================] - 21s 4s/step - loss: 0.6145 - accuracy: 0.6000 - val_loss: 0.6109 - val_accuracy: 0.7000\n",
            "Epoch 8/25\n",
            "5/5 [==============================] - 21s 4s/step - loss: 0.6647 - accuracy: 0.6250 - val_loss: 0.5891 - val_accuracy: 0.7000\n",
            "Epoch 9/25\n",
            "5/5 [==============================] - 21s 4s/step - loss: 0.6720 - accuracy: 0.6000 - val_loss: 0.5721 - val_accuracy: 0.7000\n",
            "Epoch 10/25\n",
            "5/5 [==============================] - 21s 4s/step - loss: 0.5884 - accuracy: 0.7250 - val_loss: 0.5543 - val_accuracy: 0.7000\n",
            "Epoch 11/25\n",
            "5/5 [==============================] - 21s 4s/step - loss: 0.5210 - accuracy: 0.9000 - val_loss: 0.5495 - val_accuracy: 0.7000\n",
            "Epoch 12/25\n",
            "5/5 [==============================] - 21s 4s/step - loss: 0.5056 - accuracy: 0.8750 - val_loss: 0.5431 - val_accuracy: 0.7000\n",
            "Epoch 13/25\n",
            "5/5 [==============================] - 21s 4s/step - loss: 0.4983 - accuracy: 0.8750 - val_loss: 0.5209 - val_accuracy: 0.7000\n",
            "Epoch 14/25\n",
            "5/5 [==============================] - 21s 4s/step - loss: 0.5028 - accuracy: 0.8000 - val_loss: 0.5021 - val_accuracy: 0.8000\n",
            "Epoch 15/25\n",
            "5/5 [==============================] - 21s 4s/step - loss: 0.4749 - accuracy: 0.8250 - val_loss: 0.4968 - val_accuracy: 0.7000\n",
            "Epoch 16/25\n",
            "5/5 [==============================] - 21s 4s/step - loss: 0.4549 - accuracy: 0.9000 - val_loss: 0.4788 - val_accuracy: 0.7000\n",
            "Epoch 17/25\n",
            "5/5 [==============================] - 21s 4s/step - loss: 0.4630 - accuracy: 0.7750 - val_loss: 0.4585 - val_accuracy: 0.9000\n",
            "Epoch 18/25\n",
            "5/5 [==============================] - 21s 4s/step - loss: 0.4457 - accuracy: 0.8000 - val_loss: 0.4441 - val_accuracy: 0.9000\n",
            "Epoch 19/25\n",
            "5/5 [==============================] - 21s 4s/step - loss: 0.4271 - accuracy: 0.8750 - val_loss: 0.4377 - val_accuracy: 0.9000\n",
            "Epoch 20/25\n",
            "5/5 [==============================] - 21s 4s/step - loss: 0.4185 - accuracy: 0.8750 - val_loss: 0.4259 - val_accuracy: 0.9000\n",
            "Epoch 21/25\n",
            "5/5 [==============================] - 21s 4s/step - loss: 0.3900 - accuracy: 0.8750 - val_loss: 0.4101 - val_accuracy: 0.9000\n",
            "Epoch 22/25\n",
            "5/5 [==============================] - 21s 4s/step - loss: 0.3930 - accuracy: 0.8500 - val_loss: 0.4057 - val_accuracy: 0.9000\n",
            "Epoch 23/25\n",
            "5/5 [==============================] - 21s 4s/step - loss: 0.3399 - accuracy: 0.9500 - val_loss: 0.4018 - val_accuracy: 0.9000\n",
            "Epoch 24/25\n",
            "5/5 [==============================] - 21s 4s/step - loss: 0.3704 - accuracy: 0.9250 - val_loss: 0.3974 - val_accuracy: 0.9000\n",
            "Epoch 25/25\n",
            "5/5 [==============================] - 21s 4s/step - loss: 0.4019 - accuracy: 0.9000 - val_loss: 0.4063 - val_accuracy: 0.7000\n"
          ],
          "name": "stdout"
        }
      ]
    },
    {
      "cell_type": "markdown",
      "metadata": {
        "id": "-3I-K36we9tb",
        "colab_type": "text"
      },
      "source": [
        "### Make predictions on the testing set"
      ]
    },
    {
      "cell_type": "code",
      "metadata": {
        "id": "6mCKD5H_fEqi",
        "colab_type": "code",
        "outputId": "e2838a28-0474-46ce-ab07-1716afb581d8",
        "colab": {
          "base_uri": "https://localhost:8080/",
          "height": 34
        }
      },
      "source": [
        "print(\"[INFO] evaluating network...\")\n",
        "predIdxs = model.predict(testX, batch_size=BS)"
      ],
      "execution_count": 0,
      "outputs": [
        {
          "output_type": "stream",
          "text": [
            "[INFO] evaluating network...\n"
          ],
          "name": "stdout"
        }
      ]
    },
    {
      "cell_type": "markdown",
      "metadata": {
        "id": "CARCcOVBfSGN",
        "colab_type": "text"
      },
      "source": [
        "### For each image in the testing set we need to find the index of the label with corresponding largest predicted probability"
      ]
    },
    {
      "cell_type": "code",
      "metadata": {
        "id": "P16ASSMkfVn3",
        "colab_type": "code",
        "colab": {}
      },
      "source": [
        "predIdxs = np.argmax(predIdxs, axis=1)"
      ],
      "execution_count": 0,
      "outputs": []
    },
    {
      "cell_type": "markdown",
      "metadata": {
        "id": "lBfi_OfBfXWt",
        "colab_type": "text"
      },
      "source": [
        "### Show a nicely formatted classification report"
      ]
    },
    {
      "cell_type": "code",
      "metadata": {
        "id": "UNZy2DvCfad1",
        "colab_type": "code",
        "outputId": "2c0ab1f4-88c9-4eeb-a2ac-d38b6562d7a1",
        "colab": {
          "base_uri": "https://localhost:8080/",
          "height": 170
        }
      },
      "source": [
        "print(classification_report(testY.argmax(axis=1), predIdxs,\n",
        "\ttarget_names=lb.classes_))"
      ],
      "execution_count": 0,
      "outputs": [
        {
          "output_type": "stream",
          "text": [
            "              precision    recall  f1-score   support\n",
            "\n",
            "       covid       1.00      0.40      0.57         5\n",
            "      normal       0.62      1.00      0.77         5\n",
            "\n",
            "    accuracy                           0.70        10\n",
            "   macro avg       0.81      0.70      0.67        10\n",
            "weighted avg       0.81      0.70      0.67        10\n",
            "\n"
          ],
          "name": "stdout"
        }
      ]
    },
    {
      "cell_type": "markdown",
      "metadata": {
        "id": "JXxRMQ6yfcLU",
        "colab_type": "text"
      },
      "source": [
        "### Compute the confusion matrix and and use it to derive the raw accuracy, sensitivity, and specificity"
      ]
    },
    {
      "cell_type": "code",
      "metadata": {
        "id": "VfnVOJ0Vff2Z",
        "colab_type": "code",
        "colab": {}
      },
      "source": [
        "cm = confusion_matrix(testY.argmax(axis=1), predIdxs)\n",
        "total = sum(sum(cm))\n",
        "acc = (cm[0, 0] + cm[1, 1]) / total\n",
        "sensitivity = cm[0, 0] / (cm[0, 0] + cm[0, 1])\n",
        "specificity = cm[1, 1] / (cm[1, 0] + cm[1, 1])"
      ],
      "execution_count": 0,
      "outputs": []
    },
    {
      "cell_type": "markdown",
      "metadata": {
        "id": "rSz9geRZfhim",
        "colab_type": "text"
      },
      "source": [
        "### Show the confusion matrix, accuracy, sensitivity, and specificity"
      ]
    },
    {
      "cell_type": "code",
      "metadata": {
        "id": "Ikms3tLsfj0J",
        "colab_type": "code",
        "outputId": "10a33c8c-890c-4096-d1ac-f70fb4de2713",
        "colab": {
          "base_uri": "https://localhost:8080/",
          "height": 102
        }
      },
      "source": [
        "print(cm)\n",
        "print(\"acc: {:.4f}\".format(acc))\n",
        "print(\"sensitivity: {:.4f}\".format(sensitivity))\n",
        "print(\"specificity: {:.4f}\".format(specificity))"
      ],
      "execution_count": 0,
      "outputs": [
        {
          "output_type": "stream",
          "text": [
            "[[2 3]\n",
            " [0 5]]\n",
            "acc: 0.7000\n",
            "sensitivity: 0.4000\n",
            "specificity: 1.0000\n"
          ],
          "name": "stdout"
        }
      ]
    },
    {
      "cell_type": "markdown",
      "metadata": {
        "id": "XqTP9N8afxir",
        "colab_type": "text"
      },
      "source": [
        "### Plot the training loss and accuracy"
      ]
    },
    {
      "cell_type": "code",
      "metadata": {
        "id": "_5E3isrrf0Rs",
        "colab_type": "code",
        "outputId": "46acaf57-c2a4-4b8e-968a-9eb5aabdcf7e",
        "colab": {
          "base_uri": "https://localhost:8080/",
          "height": 299
        }
      },
      "source": [
        "N = EPOCHS\n",
        "plt.style.use(\"ggplot\")\n",
        "plt.figure()\n",
        "plt.plot(np.arange(0, N), H.history[\"loss\"], label=\"train_loss\")\n",
        "plt.plot(np.arange(0, N), H.history[\"val_loss\"], label=\"val_loss\")\n",
        "plt.plot(np.arange(0, N), H.history[\"accuracy\"], label=\"train_acc\")\n",
        "plt.plot(np.arange(0, N), H.history[\"val_accuracy\"], label=\"val_acc\")\n",
        "plt.title(\"Training Loss and Accuracy on COVID-19 Dataset\")\n",
        "plt.xlabel(\"Epoch #\")\n",
        "plt.ylabel(\"Loss/Accuracy\")\n",
        "plt.legend(loc=\"lower left\")\n",
        "plt.savefig(args[\"plot\"])"
      ],
      "execution_count": 0,
      "outputs": [
        {
          "output_type": "display_data",
          "data": {
            "image/png": "[encoded data removed]",
            "text/plain": [
              "<Figure size 432x288 with 1 Axes>"
            ]
          },
          "metadata": {
            "tags": []
          }
        }
      ]
    },
    {
      "cell_type": "markdown",
      "metadata": {
        "id": "ghrAbecUf3BC",
        "colab_type": "text"
      },
      "source": [
        "### Serialize the model to disk"
      ]
    },
    {
      "cell_type": "code",
      "metadata": {
        "id": "ai3znVEXgAIt",
        "colab_type": "code",
        "outputId": "738126a0-6293-43c8-f10f-9d304f53c4aa",
        "colab": {
          "base_uri": "https://localhost:8080/",
          "height": 34
        }
      },
      "source": [
        "print(\"[INFO] saving COVID-19 detector model...\")\n",
        "model.save(args[\"model\"], save_format=\"h5\")"
      ],
      "execution_count": 0,
      "outputs": [
        {
          "output_type": "stream",
          "text": [
            "[INFO] saving COVID-19 detector model...\n"
          ],
          "name": "stdout"
        }
      ]
    },
    {
      "cell_type": "code",
      "metadata": {
        "id": "JNgbyT7M8K90",
        "colab_type": "code",
        "outputId": "56e5806e-88d6-4c65-be68-7aa2c2328e59",
        "colab": {
          "base_uri": "https://localhost:8080/",
          "height": 51
        }
      },
      "source": [
        "%ls"
      ],
      "execution_count": 0,
      "outputs": [
        {
          "output_type": "stream",
          "text": [
            "arief_notebook.ipynb  \u001b[0m\u001b[01;34mdataset\u001b[0m/              gusti_notebook.ipynb  README.md\n",
            "covid19.model         dimas_notebook.ipynb  plot.png\n"
          ],
          "name": "stdout"
        }
      ]
    }
  ]
}