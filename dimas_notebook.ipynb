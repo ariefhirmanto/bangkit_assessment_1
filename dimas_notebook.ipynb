{
  "nbformat": 4,
  "nbformat_minor": 0,
  "metadata": {
    "language_info": {
      "name": "python",
      "codemirror_mode": {
        "name": "ipython",
        "version": 3
      }
    },
    "orig_nbformat": 2,
    "file_extension": ".py",
    "mimetype": "text/x-python",
    "name": "python",
    "npconvert_exporter": "python",
    "pygments_lexer": "ipython3",
    "version": 3,
    "colab": {
      "name": "dimas_notebook.ipynb",
      "provenance": []
    }
  },
  "cells": [
    {
      "cell_type": "markdown",
      "metadata": {
        "id": "xwBAhsnTadi3",
        "colab_type": "text"
      },
      "source": [
        "## This is Dimas Notebook"
      ]
    },
    {
      "cell_type": "markdown",
      "metadata": {
        "id": "WSMO2e0Ca3tU",
        "colab_type": "text"
      },
      "source": [
        "# COVID Detection from Xray Images"
      ]
    },
    {
      "cell_type": "markdown",
      "metadata": {
        "id": "n_Kecj9IbFCT",
        "colab_type": "text"
      },
      "source": [
        "These code mainly adapted from https://www.pyimagesearch.com/2020/03/16/detecting-covid-19-in-x-ray-images-with-keras-tensorflow-and-deep-learning/"
      ]
    },
    {
      "cell_type": "markdown",
      "metadata": {
        "id": "u3tF64VybOiZ",
        "colab_type": "text"
      },
      "source": [
        "### Import the necessary packages"
      ]
    },
    {
      "cell_type": "code",
      "metadata": {
        "id": "ZKzt0tiAbYLY",
        "colab_type": "code",
        "colab": {}
      },
      "source": [
        "from tensorflow.keras.preprocessing.image import ImageDataGenerator\n",
        "from tensorflow.keras.applications import VGG16\n",
        "from tensorflow.keras.layers import AveragePooling2D\n",
        "from tensorflow.keras.layers import Dropout\n",
        "from tensorflow.keras.layers import Flatten\n",
        "from tensorflow.keras.layers import Dense\n",
        "from tensorflow.keras.layers import Input\n",
        "from tensorflow.keras.models import Model\n",
        "from tensorflow.keras.optimizers import Adam\n",
        "from tensorflow.keras.utils import to_categorical\n",
        "from sklearn.preprocessing import LabelBinarizer\n",
        "from sklearn.model_selection import train_test_split\n",
        "from sklearn.metrics import classification_report\n",
        "from sklearn.metrics import confusion_matrix\n",
        "from imutils import paths\n",
        "import matplotlib.pyplot as plt\n",
        "import numpy as np\n",
        "import argparse\n",
        "import cv2\n",
        "import os"
      ],
      "execution_count": 0,
      "outputs": []
    },
    {
      "cell_type": "markdown",
      "metadata": {
        "id": "Gn9sHNBkcxPe",
        "colab_type": "text"
      },
      "source": [
        "### Construct the argument parser and parse the arguments"
      ]
    },
    {
      "cell_type": "code",
      "metadata": {
        "id": "nRziUKPScoNd",
        "colab_type": "code",
        "colab": {}
      },
      "source": [
        "ap = argparse.ArgumentParser()\n",
        "ap.add_argument(\"-d\", \"--dataset\", required=True,\n",
        "\thelp=\"path to input dataset\")\n",
        "ap.add_argument(\"-p\", \"--plot\", type=str, default=\"plot.png\",\n",
        "\thelp=\"path to output loss/accuracy plot\")\n",
        "ap.add_argument(\"-m\", \"--model\", type=str, default=\"covid19.model\",\n",
        "\thelp=\"path to output loss/accuracy plot\")\n",
        "args = vars(ap.parse_args())"
      ],
      "execution_count": 0,
      "outputs": []
    },
    {
      "cell_type": "markdown",
      "metadata": {
        "id": "0fXFxyTSc3PG",
        "colab_type": "text"
      },
      "source": [
        "### Initialize the initial learning rate, number of epochs to train for, and batch size"
      ]
    },
    {
      "cell_type": "code",
      "metadata": {
        "id": "qxWwe8VJcqHe",
        "colab_type": "code",
        "colab": {}
      },
      "source": [
        "INIT_LR = 1e-3\n",
        "EPOCHS = 25\n",
        "BS = 8"
      ],
      "execution_count": 0,
      "outputs": []
    },
    {
      "cell_type": "markdown",
      "metadata": {
        "id": "fHwfVGtAdRNc",
        "colab_type": "text"
      },
      "source": [
        "### Grab the list of images in our dataset directory, then initialize the list of data (i.e., images) and class images"
      ]
    },
    {
      "cell_type": "code",
      "metadata": {
        "id": "Oq4CO7S0csvG",
        "colab_type": "code",
        "colab": {}
      },
      "source": [
        "print(\"[INFO] loading images...\")\n",
        "imagePaths = list(paths.list_images(args[\"dataset\"]))\n",
        "data = []\n",
        "labels = []"
      ],
      "execution_count": 0,
      "outputs": []
    },
    {
      "cell_type": "markdown",
      "metadata": {
        "id": "KGqDDFakdv3I",
        "colab_type": "text"
      },
      "source": [
        "### Loop over the image paths"
      ]
    },
    {
      "cell_type": "code",
      "metadata": {
        "id": "5IjoPu1Cdu2C",
        "colab_type": "code",
        "colab": {}
      },
      "source": [
        "for imagePath in imagePaths:\n",
        "\t# extract the class label from the filename\n",
        "\tlabel = imagePath.split(os.path.sep)[-2]\n",
        "\n",
        "\t# load the image, swap color channels, and resize it to be a fixed\n",
        "\t# 224x224 pixels while ignoring aspect ratio\n",
        "\timage = cv2.imread(imagePath)\n",
        "\timage = cv2.cvtColor(image, cv2.COLOR_BGR2RGB)\n",
        "\timage = cv2.resize(image, (224, 224))\n",
        "\n",
        "\t# update the data and labels lists, respectively\n",
        "\tdata.append(image)\n",
        "\tlabels.append(label)"
      ],
      "execution_count": 0,
      "outputs": []
    },
    {
      "cell_type": "markdown",
      "metadata": {
        "id": "0920nm76d4Hs",
        "colab_type": "text"
      },
      "source": [
        "### Convert the data and labels to NumPy arrays while scaling the pixel intensities to the range [0, 255]"
      ]
    },
    {
      "cell_type": "code",
      "metadata": {
        "id": "6QNL7ibcdzIj",
        "colab_type": "code",
        "colab": {}
      },
      "source": [
        "data = np.array(data) / 255.0\n",
        "labels = np.array(labels)"
      ],
      "execution_count": 0,
      "outputs": []
    },
    {
      "cell_type": "markdown",
      "metadata": {
        "id": "n3zmzxdQd9ON",
        "colab_type": "text"
      },
      "source": [
        "### Perform one-hot encoding on the labels"
      ]
    },
    {
      "cell_type": "code",
      "metadata": {
        "id": "0J2yOK7md_y6",
        "colab_type": "code",
        "colab": {}
      },
      "source": [
        "lb = LabelBinarizer()\n",
        "labels = lb.fit_transform(labels)\n",
        "labels = to_categorical(labels)"
      ],
      "execution_count": 0,
      "outputs": []
    },
    {
      "cell_type": "markdown",
      "metadata": {
        "id": "bHZEuVVDeBv9",
        "colab_type": "text"
      },
      "source": [
        "### Partition the data into training and testing splits using 80% of the data for training and the remaining 20% for testing"
      ]
    },
    {
      "cell_type": "code",
      "metadata": {
        "id": "FK0h4tnQeH56",
        "colab_type": "code",
        "colab": {}
      },
      "source": [
        "(trainX, testX, trainY, testY) = train_test_split(data, labels,\n",
        "\ttest_size=0.20, stratify=labels, random_state=42)"
      ],
      "execution_count": 0,
      "outputs": []
    },
    {
      "cell_type": "markdown",
      "metadata": {
        "id": "0SoyFWCZeLe0",
        "colab_type": "text"
      },
      "source": [
        "### Initialize the training data augmentation object"
      ]
    },
    {
      "cell_type": "code",
      "metadata": {
        "id": "kzi3yvZYeSOy",
        "colab_type": "code",
        "colab": {}
      },
      "source": [
        "trainAug = ImageDataGenerator(\n",
        "\trotation_range=15,\n",
        "\tfill_mode=\"nearest\")"
      ],
      "execution_count": 0,
      "outputs": []
    },
    {
      "cell_type": "markdown",
      "metadata": {
        "id": "QsDuC6ngeUls",
        "colab_type": "text"
      },
      "source": [
        "### Load the VGG16 network, ensuring the head FC layer sets are left off"
      ]
    },
    {
      "cell_type": "code",
      "metadata": {
        "id": "InLljPNaeYI2",
        "colab_type": "code",
        "colab": {}
      },
      "source": [
        "baseModel = VGG16(weights=\"imagenet\", include_top=False,\n",
        "\tinput_tensor=Input(shape=(224, 224, 3)))"
      ],
      "execution_count": 0,
      "outputs": []
    },
    {
      "cell_type": "markdown",
      "metadata": {
        "id": "B571TxNMebs_",
        "colab_type": "text"
      },
      "source": [
        "### Construct the head of the model that will be placed on top of the the base model"
      ]
    },
    {
      "cell_type": "code",
      "metadata": {
        "id": "9B6da8LIehJ-",
        "colab_type": "code",
        "colab": {}
      },
      "source": [
        "headModel = baseModel.output\n",
        "headModel = AveragePooling2D(pool_size=(4, 4))(headModel)\n",
        "headModel = Flatten(name=\"flatten\")(headModel)\n",
        "headModel = Dense(64, activation=\"relu\")(headModel)\n",
        "headModel = Dropout(0.5)(headModel)\n",
        "headModel = Dense(2, activation=\"softmax\")(headModel)"
      ],
      "execution_count": 0,
      "outputs": []
    },
    {
      "cell_type": "markdown",
      "metadata": {
        "id": "cnPX4oJ9envZ",
        "colab_type": "text"
      },
      "source": [
        "### Place the head FC model on top of the base model (this will become the actual model we will train)"
      ]
    },
    {
      "cell_type": "code",
      "metadata": {
        "id": "QLnZSsnqelKN",
        "colab_type": "code",
        "colab": {}
      },
      "source": [
        "model = Model(inputs=baseModel.input, outputs=headModel)"
      ],
      "execution_count": 0,
      "outputs": []
    },
    {
      "cell_type": "markdown",
      "metadata": {
        "id": "eW82dDTceriO",
        "colab_type": "text"
      },
      "source": [
        "### Loop over all layers in the base model and freeze them so they will *not* be updated during the first training process"
      ]
    },
    {
      "cell_type": "code",
      "metadata": {
        "id": "hTSg-mYDeudx",
        "colab_type": "code",
        "colab": {}
      },
      "source": [
        "for layer in baseModel.layers:\n",
        "\tlayer.trainable = False"
      ],
      "execution_count": 0,
      "outputs": []
    },
    {
      "cell_type": "markdown",
      "metadata": {
        "id": "Nw9zNjpcewtl",
        "colab_type": "text"
      },
      "source": [
        "### Compile our model"
      ]
    },
    {
      "cell_type": "code",
      "metadata": {
        "id": "_NJBceqJe0mJ",
        "colab_type": "code",
        "colab": {}
      },
      "source": [
        "print(\"[INFO] compiling model...\")\n",
        "opt = Adam(lr=INIT_LR, decay=INIT_LR / EPOCHS)\n",
        "model.compile(loss=\"binary_crossentropy\", optimizer=opt,\n",
        "\tmetrics=[\"accuracy\"])"
      ],
      "execution_count": 0,
      "outputs": []
    },
    {
      "cell_type": "markdown",
      "metadata": {
        "id": "ataiZOiKe5du",
        "colab_type": "text"
      },
      "source": [
        "### Train the head of the network"
      ]
    },
    {
      "cell_type": "code",
      "metadata": {
        "id": "MpiC-2O3e780",
        "colab_type": "code",
        "colab": {}
      },
      "source": [
        "print(\"[INFO] training head...\")\n",
        "H = model.fit_generator(\n",
        "\ttrainAug.flow(trainX, trainY, batch_size=BS),\n",
        "\tsteps_per_epoch=len(trainX) // BS,\n",
        "\tvalidation_data=(testX, testY),\n",
        "\tvalidation_steps=len(testX) // BS,\n",
        "\tepochs=EPOCHS)"
      ],
      "execution_count": 0,
      "outputs": []
    },
    {
      "cell_type": "markdown",
      "metadata": {
        "id": "-3I-K36we9tb",
        "colab_type": "text"
      },
      "source": [
        "### Make predictions on the testing set"
      ]
    },
    {
      "cell_type": "code",
      "metadata": {
        "id": "6mCKD5H_fEqi",
        "colab_type": "code",
        "colab": {}
      },
      "source": [
        "print(\"[INFO] evaluating network...\")\n",
        "predIdxs = model.predict(testX, batch_size=BS)"
      ],
      "execution_count": 0,
      "outputs": []
    },
    {
      "cell_type": "markdown",
      "metadata": {
        "id": "CARCcOVBfSGN",
        "colab_type": "text"
      },
      "source": [
        "### For each image in the testing set we need to find the index of the label with corresponding largest predicted probability"
      ]
    },
    {
      "cell_type": "code",
      "metadata": {
        "id": "P16ASSMkfVn3",
        "colab_type": "code",
        "colab": {}
      },
      "source": [
        "predIdxs = np.argmax(predIdxs, axis=1)"
      ],
      "execution_count": 0,
      "outputs": []
    },
    {
      "cell_type": "markdown",
      "metadata": {
        "id": "lBfi_OfBfXWt",
        "colab_type": "text"
      },
      "source": [
        "### Show a nicely formatted classification report"
      ]
    },
    {
      "cell_type": "code",
      "metadata": {
        "id": "UNZy2DvCfad1",
        "colab_type": "code",
        "colab": {}
      },
      "source": [
        "print(classification_report(testY.argmax(axis=1), predIdxs,\n",
        "\ttarget_names=lb.classes_))"
      ],
      "execution_count": 0,
      "outputs": []
    },
    {
      "cell_type": "markdown",
      "metadata": {
        "id": "JXxRMQ6yfcLU",
        "colab_type": "text"
      },
      "source": [
        "### Compute the confusion matrix and and use it to derive the raw accuracy, sensitivity, and specificity"
      ]
    },
    {
      "cell_type": "code",
      "metadata": {
        "id": "VfnVOJ0Vff2Z",
        "colab_type": "code",
        "colab": {}
      },
      "source": [
        "cm = confusion_matrix(testY.argmax(axis=1), predIdxs)\n",
        "total = sum(sum(cm))\n",
        "acc = (cm[0, 0] + cm[1, 1]) / total\n",
        "sensitivity = cm[0, 0] / (cm[0, 0] + cm[0, 1])\n",
        "specificity = cm[1, 1] / (cm[1, 0] + cm[1, 1])"
      ],
      "execution_count": 0,
      "outputs": []
    },
    {
      "cell_type": "markdown",
      "metadata": {
        "id": "rSz9geRZfhim",
        "colab_type": "text"
      },
      "source": [
        "### Show the confusion matrix, accuracy, sensitivity, and specificity"
      ]
    },
    {
      "cell_type": "code",
      "metadata": {
        "id": "Ikms3tLsfj0J",
        "colab_type": "code",
        "colab": {}
      },
      "source": [
        "print(cm)\n",
        "print(\"acc: {:.4f}\".format(acc))\n",
        "print(\"sensitivity: {:.4f}\".format(sensitivity))\n",
        "print(\"specificity: {:.4f}\".format(specificity))"
      ],
      "execution_count": 0,
      "outputs": []
    },
    {
      "cell_type": "markdown",
      "metadata": {
        "id": "XqTP9N8afxir",
        "colab_type": "text"
      },
      "source": [
        "### Plot the training loss and accuracy"
      ]
    },
    {
      "cell_type": "code",
      "metadata": {
        "id": "_5E3isrrf0Rs",
        "colab_type": "code",
        "colab": {}
      },
      "source": [
        "N = EPOCHS\n",
        "plt.style.use(\"ggplot\")\n",
        "plt.figure()\n",
        "plt.plot(np.arange(0, N), H.history[\"loss\"], label=\"train_loss\")\n",
        "plt.plot(np.arange(0, N), H.history[\"val_loss\"], label=\"val_loss\")\n",
        "plt.plot(np.arange(0, N), H.history[\"accuracy\"], label=\"train_acc\")\n",
        "plt.plot(np.arange(0, N), H.history[\"val_accuracy\"], label=\"val_acc\")\n",
        "plt.title(\"Training Loss and Accuracy on COVID-19 Dataset\")\n",
        "plt.xlabel(\"Epoch #\")\n",
        "plt.ylabel(\"Loss/Accuracy\")\n",
        "plt.legend(loc=\"lower left\")\n",
        "plt.savefig(args[\"plot\"])"
      ],
      "execution_count": 0,
      "outputs": []
    },
    {
      "cell_type": "markdown",
      "metadata": {
        "id": "ghrAbecUf3BC",
        "colab_type": "text"
      },
      "source": [
        "### Serialize the model to disk"
      ]
    },
    {
      "cell_type": "code",
      "metadata": {
        "id": "ai3znVEXgAIt",
        "colab_type": "code",
        "colab": {}
      },
      "source": [
        "print(\"[INFO] saving COVID-19 detector model...\")\n",
        "model.save(args[\"model\"], save_format=\"h5\")"
      ],
      "execution_count": 0,
      "outputs": []
    }
  ]
}