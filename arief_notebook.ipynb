{
  "nbformat": 4,
  "nbformat_minor": 0,
  "metadata": {
    "colab": {
      "name": "Assesment 1.ipynb",
      "provenance": [],
      "collapsed_sections": []
    },
    "kernelspec": {
      "name": "python3",
      "display_name": "Python 3"
    }
  },
  "cells": [
    {
      "cell_type": "markdown",
      "metadata": {
        "id": "qN6mJrrQ414d",
        "colab_type": "text"
      },
      "source": [
        "## **COVID detection from X-Ray**\n",
        "Adaptation from https://www.pyimagesearch.com/2020/03/16/detecting-covid-19-in-x-ray-images-with-keras-tensorflow-and-deep-learning/\n",
        "\n",
        "Under tutelage of Dimas Apeco Putra and Gusti Triandi Winata"
      ]
    },
    {
      "cell_type": "code",
      "metadata": {
        "id": "k-MYDPs0AHku",
        "colab_type": "code",
        "colab": {
          "base_uri": "https://localhost:8080/",
          "height": 101
        },
        "outputId": "f9c90f2c-81ee-40ba-b61d-d9b4af412363"
      },
      "source": [
        "GIT_PATH = \"https://github.com/sanggusti/bangkit_assessment_1.git\"\n",
        "!git clone \"{GIT_PATH}\"\n",
        "%cd ./bangkit_assessment_1\n",
        "%ls\n",
        "%pwd"
      ],
      "execution_count": 1,
      "outputs": [
        {
          "output_type": "stream",
          "text": [
            "fatal: destination path 'bangkit_assessment_1' already exists and is not an empty directory.\n",
            "/content/bangkit_assessment_1\n",
            "arief_notebook.ipynb  \u001b[0m\u001b[01;34mdataset\u001b[0m/              gusti_notebook.ipynb  README.md\n",
            "covid19.model         dimas_notebook.ipynb  plot.png\n"
          ],
          "name": "stdout"
        },
        {
          "output_type": "execute_result",
          "data": {
            "text/plain": [
              "'/content/bangkit_assessment_1'"
            ]
          },
          "metadata": {
            "tags": []
          },
          "execution_count": 1
        }
      ]
    },
    {
      "cell_type": "markdown",
      "metadata": {
        "id": "Xkzf5T2KR5BR",
        "colab_type": "text"
      },
      "source": [
        "# **Import necessary package**\n",
        "\n"
      ]
    },
    {
      "cell_type": "code",
      "metadata": {
        "id": "71IWtPHqRWqE",
        "colab_type": "code",
        "colab": {}
      },
      "source": [
        "from tensorflow.keras.preprocessing.image import ImageDataGenerator\n",
        "from tensorflow.keras.applications import VGG16\n",
        "from tensorflow.keras.layers import AveragePooling2D\n",
        "from tensorflow.keras.layers import Dropout\n",
        "from tensorflow.keras.layers import Flatten\n",
        "from tensorflow.keras.layers import Dense\n",
        "from tensorflow.keras.layers import Input\n",
        "from tensorflow.keras.models import Model\n",
        "from tensorflow.keras.optimizers import Adam\n",
        "from tensorflow.keras.utils import to_categorical\n",
        "from sklearn.preprocessing import LabelBinarizer\n",
        "from sklearn.model_selection import train_test_split\n",
        "from sklearn.metrics import classification_report\n",
        "from sklearn.metrics import confusion_matrix\n",
        "from imutils import paths\n",
        "import matplotlib.pyplot as plt\n",
        "import numpy as np\n",
        "import argparse\n",
        "import cv2\n",
        "import os"
      ],
      "execution_count": 0,
      "outputs": []
    },
    {
      "cell_type": "markdown",
      "metadata": {
        "id": "Hvf06o_BUdkj",
        "colab_type": "text"
      },
      "source": [
        "# **Declare argument variables**"
      ]
    },
    {
      "cell_type": "code",
      "metadata": {
        "id": "dSMP8O5pUaDa",
        "colab_type": "code",
        "colab": {}
      },
      "source": [
        "args = {'dataset': 'dataset',\n",
        "        'plot': 'plot.png',\n",
        "        'model': 'covid19.model'}"
      ],
      "execution_count": 0,
      "outputs": []
    },
    {
      "cell_type": "markdown",
      "metadata": {
        "id": "buOYXJQ-R0M1",
        "colab_type": "text"
      },
      "source": [
        "# **Initializing hyperparameter**"
      ]
    },
    {
      "cell_type": "code",
      "metadata": {
        "id": "0AzgCLLNULxj",
        "colab_type": "code",
        "colab": {}
      },
      "source": [
        "learning_rate = 0.001\n",
        "epochs = 25\n",
        "batch = 8"
      ],
      "execution_count": 0,
      "outputs": []
    },
    {
      "cell_type": "markdown",
      "metadata": {
        "id": "xVmVlJWoUoWG",
        "colab_type": "text"
      },
      "source": [
        "# **Initialize the list of data from list of image in dataset**"
      ]
    },
    {
      "cell_type": "code",
      "metadata": {
        "id": "p-bzEBYRUSGr",
        "colab_type": "code",
        "colab": {
          "base_uri": "https://localhost:8080/",
          "height": 70
        },
        "outputId": "63cca8cc-eeb8-4aaf-8abd-01d6222b9c55"
      },
      "source": [
        "print(\"[INFO] This might take a sec ...\")\n",
        "imagePaths = list(paths.list_images(args[\"dataset\"]))\n",
        "print(imagePaths)\n",
        "data = []\n",
        "labels = []"
      ],
      "execution_count": 6,
      "outputs": [
        {
          "output_type": "stream",
          "text": [
            "[INFO] This might take a sec ...\n",
            "['dataset/normal/person1_bacteria_2.jpeg', 'dataset/normal/person939_bacteria_2864.jpeg', 'dataset/normal/person925_virus_1582.jpeg', 'dataset/normal/person1935_bacteria_4849.jpeg', 'dataset/normal/person1290_virus_2215.jpeg', 'dataset/normal/NORMAL2-IM-0315-0001.jpeg', 'dataset/normal/person1558_bacteria_4066.jpeg', 'dataset/normal/person1599_virus_2776.jpeg', 'dataset/normal/person339_bacteria_1574.jpeg', 'dataset/normal/IM-0466-0001.jpeg', 'dataset/normal/person651_bacteria_2543.jpeg', 'dataset/normal/NORMAL2-IM-0696-0001.jpeg', 'dataset/normal/person989_virus_1667.jpeg', 'dataset/normal/NORMAL2-IM-0869-0001.jpeg', 'dataset/normal/person1830_bacteria_4693.jpeg', 'dataset/normal/person259_bacteria_1220.jpeg', 'dataset/normal/person378_virus_761.jpeg', 'dataset/normal/person934_virus_1595.jpeg', 'dataset/normal/person525_bacteria_2216.jpeg', 'dataset/normal/person612_bacteria_2478.jpeg', 'dataset/normal/person438_bacteria_1893.jpeg', 'dataset/normal/person1102_bacteria_3043.jpeg', 'dataset/normal/IM-0240-0001.jpeg', 'dataset/normal/NORMAL2-IM-1179-0001.jpeg', 'dataset/normal/IM-0033-0001-0001.jpeg', 'dataset/covid/ryct.2020200028.fig1a.jpeg', 'dataset/covid/ryct.2020200034.fig2.jpeg', 'dataset/covid/ryct.2020200034.fig5-day7.jpeg', 'dataset/covid/1-s2.0-S0929664620300449-gr2_lrg-d.jpg', 'dataset/covid/auntminnie-c-2020_01_28_23_51_6665_2020_01_28_Vietnam_coronavirus.jpeg', 'dataset/covid/1-s2.0-S0929664620300449-gr2_lrg-c.jpg', 'dataset/covid/1-s2.0-S0140673620303706-fx1_lrg.jpg', 'dataset/covid/auntminnie-a-2020_01_28_23_51_6665_2020_01_28_Vietnam_coronavirus.jpeg', 'dataset/covid/1-s2.0-S0929664620300449-gr2_lrg-a.jpg', 'dataset/covid/nejmoa2001191_f4.jpeg', 'dataset/covid/nejmoa2001191_f1-PA.jpeg', 'dataset/covid/radiol.2020200490.fig3.jpeg', 'dataset/covid/lancet-case2a.jpg', 'dataset/covid/nejmoa2001191_f5-PA.jpeg', 'dataset/covid/1-s2.0-S0929664620300449-gr2_lrg-b.jpg', 'dataset/covid/ryct.2020200034.fig5-day4.jpeg', 'dataset/covid/nejmc2001573_f1b.jpeg', 'dataset/covid/auntminnie-d-2020_01_28_23_51_6665_2020_01_28_Vietnam_coronavirus.jpeg', 'dataset/covid/nejmoa2001191_f3-PA.jpeg', 'dataset/covid/lancet-case2b.jpg', 'dataset/covid/ryct.2020200034.fig5-day0.jpeg', 'dataset/covid/nCoV-radiol.2020200269.fig1-day7.jpeg', 'dataset/covid/nejmc2001573_f1a.jpeg', 'dataset/covid/radiopedia-covid-19-pneumonia-2.jpg', 'dataset/covid/auntminnie-b-2020_01_28_23_51_6665_2020_01_28_Vietnam_coronavirus.jpeg']\n"
          ],
          "name": "stdout"
        }
      ]
    },
    {
      "cell_type": "markdown",
      "metadata": {
        "id": "eCcjBdeuas93",
        "colab_type": "text"
      },
      "source": [
        "# **Looping over image path**"
      ]
    },
    {
      "cell_type": "code",
      "metadata": {
        "id": "X29b9pYVUW-G",
        "colab_type": "code",
        "colab": {}
      },
      "source": [
        "for imagePath in imagePaths:\n",
        "\t# extract the class label from the filename\n",
        "\tlabel = imagePath.split(os.path.sep)[-2]\n",
        "\n",
        "\t# load the image, swap color channels, and resize it to be a fixed\n",
        "\t# 224x224 pixels while ignoring aspect ratio\n",
        "\timage = cv2.imread(imagePath)\n",
        "\timage = cv2.cvtColor(image, cv2.COLOR_BGR2RGB)\n",
        "\timage = cv2.resize(image, (224, 224))\n",
        "\n",
        "\t# update the data and labels lists, respectively\n",
        "\tdata.append(image)\n",
        "\tlabels.append(label)"
      ],
      "execution_count": 0,
      "outputs": []
    },
    {
      "cell_type": "markdown",
      "metadata": {
        "id": "z8Zzx68bcUcT",
        "colab_type": "text"
      },
      "source": [
        "# **Convert data and label to NumPy array while scaling the pixel intensities to range 0 to 255**"
      ]
    },
    {
      "cell_type": "code",
      "metadata": {
        "id": "ynOJRT5mbFtD",
        "colab_type": "code",
        "colab": {}
      },
      "source": [
        "data = np.array(data) / 255.0\n",
        "labels = np.array(labels)"
      ],
      "execution_count": 0,
      "outputs": []
    },
    {
      "cell_type": "markdown",
      "metadata": {
        "id": "U94d2qgGe3zU",
        "colab_type": "text"
      },
      "source": [
        "# **One hot encoding on the label**"
      ]
    },
    {
      "cell_type": "code",
      "metadata": {
        "id": "A81JVe_Pex6V",
        "colab_type": "code",
        "colab": {}
      },
      "source": [
        "lb = LabelBinarizer()\n",
        "labels = lb.fit_transform(labels)\n",
        "labels = to_categorical(labels)"
      ],
      "execution_count": 0,
      "outputs": []
    },
    {
      "cell_type": "markdown",
      "metadata": {
        "id": "61RViP2CgySz",
        "colab_type": "text"
      },
      "source": [
        "# **Allocate 80% of data into training and 20% for testing**"
      ]
    },
    {
      "cell_type": "code",
      "metadata": {
        "id": "SM_aOSy0f-e4",
        "colab_type": "code",
        "colab": {}
      },
      "source": [
        "(trainX, testX, trainY, testY) = train_test_split(data, labels,\n",
        "\ttest_size=0.20, stratify=labels, random_state=42)"
      ],
      "execution_count": 0,
      "outputs": []
    },
    {
      "cell_type": "markdown",
      "metadata": {
        "id": "S2qwy2JhhIIs",
        "colab_type": "text"
      },
      "source": [
        "# **Initialize training data augmentation object**"
      ]
    },
    {
      "cell_type": "code",
      "metadata": {
        "id": "5FdWsvXVgxGy",
        "colab_type": "code",
        "colab": {}
      },
      "source": [
        "trainAug = ImageDataGenerator(\n",
        "\trotation_range=15,\n",
        "\tfill_mode=\"nearest\")"
      ],
      "execution_count": 0,
      "outputs": []
    },
    {
      "cell_type": "markdown",
      "metadata": {
        "id": "u_qbiPeshxv0",
        "colab_type": "text"
      },
      "source": [
        "# **Load VGG16 Network**"
      ]
    },
    {
      "cell_type": "code",
      "metadata": {
        "id": "bjPcFSZ5hw33",
        "colab_type": "code",
        "colab": {}
      },
      "source": [
        "baseModel = VGG16(weights=\"imagenet\", include_top=False,\n",
        "\tinput_tensor=Input(shape=(224, 224, 3)))"
      ],
      "execution_count": 0,
      "outputs": []
    },
    {
      "cell_type": "markdown",
      "metadata": {
        "id": "8I26UV1amkn7",
        "colab_type": "text"
      },
      "source": [
        "# **Construct head of the model**"
      ]
    },
    {
      "cell_type": "code",
      "metadata": {
        "id": "pCCJ0Htdrmnl",
        "colab_type": "code",
        "colab": {}
      },
      "source": [
        "headModel = baseModel.output\n",
        "headModel = AveragePooling2D(pool_size=(4, 4))(headModel)\n",
        "headModel = Flatten(name=\"flatten\")(headModel)\n",
        "headModel = Dense(64, activation=\"relu\")(headModel)\n",
        "headModel = Dropout(0.5)(headModel)\n",
        "headModel = Dense(2, activation=\"softmax\")(headModel)"
      ],
      "execution_count": 0,
      "outputs": []
    },
    {
      "cell_type": "markdown",
      "metadata": {
        "id": "NLcPq8r-rwcT",
        "colab_type": "text"
      },
      "source": [
        "# **Place the head into top of base model**"
      ]
    },
    {
      "cell_type": "code",
      "metadata": {
        "id": "wP7akiPDrr9K",
        "colab_type": "code",
        "colab": {}
      },
      "source": [
        "model = Model(inputs=baseModel.input, outputs=headModel)"
      ],
      "execution_count": 0,
      "outputs": []
    },
    {
      "cell_type": "markdown",
      "metadata": {
        "id": "n4aOa4yor8pz",
        "colab_type": "text"
      },
      "source": [
        "# **Loop over all layers in the base model and freeze them so they will not be updated during the first training process**"
      ]
    },
    {
      "cell_type": "code",
      "metadata": {
        "id": "u3aA0Opvr8J1",
        "colab_type": "code",
        "colab": {}
      },
      "source": [
        "for layer in baseModel.layers:\n",
        "\tlayer.trainable = False"
      ],
      "execution_count": 0,
      "outputs": []
    },
    {
      "cell_type": "markdown",
      "metadata": {
        "id": "NBIAEoX0sskk",
        "colab_type": "text"
      },
      "source": [
        "# **Compile our model**"
      ]
    },
    {
      "cell_type": "code",
      "metadata": {
        "id": "cx1vvVLZspTu",
        "colab_type": "code",
        "colab": {
          "base_uri": "https://localhost:8080/",
          "height": 34
        },
        "outputId": "08c908ee-ad24-4feb-8e1d-7a24fb02ce4f"
      },
      "source": [
        "print(\"[INFO] compiling...\")\n",
        "opt = Adam(lr=learning_rate, decay=learning_rate / epochs)\n",
        "model.compile(loss=\"binary_crossentropy\", optimizer=opt,\n",
        "\tmetrics=[\"accuracy\"])"
      ],
      "execution_count": 16,
      "outputs": [
        {
          "output_type": "stream",
          "text": [
            "[INFO] compiling...\n"
          ],
          "name": "stdout"
        }
      ]
    },
    {
      "cell_type": "markdown",
      "metadata": {
        "id": "6cATpH8us89R",
        "colab_type": "text"
      },
      "source": [
        "# **Train the head of network**"
      ]
    },
    {
      "cell_type": "code",
      "metadata": {
        "id": "vSJCusOIs-xf",
        "colab_type": "code",
        "colab": {
          "base_uri": "https://localhost:8080/",
          "height": 924
        },
        "outputId": "23bc216c-5cbe-4112-cc83-d05179bed243"
      },
      "source": [
        "print(\"[INFO] training head...\")\n",
        "H = model.fit_generator(\n",
        "\ttrainAug.flow(trainX, trainY, batch_size=batch),\n",
        "\tsteps_per_epoch=len(trainX) // batch,\n",
        "\tvalidation_data=(testX, testY),\n",
        "\tvalidation_steps=len(testX) // batch,\n",
        "\tepochs=epochs)"
      ],
      "execution_count": 18,
      "outputs": [
        {
          "output_type": "stream",
          "text": [
            "[INFO] training head...\n",
            "WARNING:tensorflow:From <ipython-input-18-f5514e808e43>:7: Model.fit_generator (from tensorflow.python.keras.engine.training) is deprecated and will be removed in a future version.\n",
            "Instructions for updating:\n",
            "Please use Model.fit, which supports generators.\n",
            "Epoch 1/25\n",
            "5/5 [==============================] - 21s 4s/step - loss: 0.7677 - accuracy: 0.5750 - val_loss: 0.7120 - val_accuracy: 0.5000\n",
            "Epoch 2/25\n",
            "5/5 [==============================] - 21s 4s/step - loss: 0.7656 - accuracy: 0.5250 - val_loss: 0.7049 - val_accuracy: 0.5000\n",
            "Epoch 3/25\n",
            "5/5 [==============================] - 21s 4s/step - loss: 0.7461 - accuracy: 0.6000 - val_loss: 0.6672 - val_accuracy: 0.5000\n",
            "Epoch 4/25\n",
            "5/5 [==============================] - 21s 4s/step - loss: 0.7402 - accuracy: 0.5750 - val_loss: 0.6211 - val_accuracy: 1.0000\n",
            "Epoch 5/25\n",
            "5/5 [==============================] - 21s 4s/step - loss: 0.7253 - accuracy: 0.4750 - val_loss: 0.5994 - val_accuracy: 0.8000\n",
            "Epoch 6/25\n",
            "5/5 [==============================] - 21s 4s/step - loss: 0.6659 - accuracy: 0.6500 - val_loss: 0.5768 - val_accuracy: 0.9000\n",
            "Epoch 7/25\n",
            "5/5 [==============================] - 21s 4s/step - loss: 0.6293 - accuracy: 0.6000 - val_loss: 0.5729 - val_accuracy: 0.9000\n",
            "Epoch 8/25\n",
            "5/5 [==============================] - 21s 4s/step - loss: 0.5876 - accuracy: 0.6250 - val_loss: 0.5757 - val_accuracy: 0.6000\n",
            "Epoch 9/25\n",
            "5/5 [==============================] - 21s 4s/step - loss: 0.6083 - accuracy: 0.5750 - val_loss: 0.5419 - val_accuracy: 0.9000\n",
            "Epoch 10/25\n",
            "5/5 [==============================] - 21s 4s/step - loss: 0.5488 - accuracy: 0.7250 - val_loss: 0.5179 - val_accuracy: 0.9000\n",
            "Epoch 11/25\n",
            "5/5 [==============================] - 21s 4s/step - loss: 0.5193 - accuracy: 0.7750 - val_loss: 0.5160 - val_accuracy: 0.9000\n",
            "Epoch 12/25\n",
            "5/5 [==============================] - 21s 4s/step - loss: 0.5838 - accuracy: 0.6500 - val_loss: 0.4947 - val_accuracy: 0.9000\n",
            "Epoch 13/25\n",
            "5/5 [==============================] - 21s 4s/step - loss: 0.5165 - accuracy: 0.8250 - val_loss: 0.4811 - val_accuracy: 0.9000\n",
            "Epoch 14/25\n",
            "5/5 [==============================] - 21s 4s/step - loss: 0.5581 - accuracy: 0.6750 - val_loss: 0.4784 - val_accuracy: 0.9000\n",
            "Epoch 15/25\n",
            "5/5 [==============================] - 21s 4s/step - loss: 0.4935 - accuracy: 0.8000 - val_loss: 0.4613 - val_accuracy: 0.9000\n",
            "Epoch 16/25\n",
            "5/5 [==============================] - 21s 4s/step - loss: 0.4801 - accuracy: 0.7750 - val_loss: 0.4315 - val_accuracy: 0.9000\n",
            "Epoch 17/25\n",
            "5/5 [==============================] - 21s 4s/step - loss: 0.4883 - accuracy: 0.7750 - val_loss: 0.4189 - val_accuracy: 1.0000\n",
            "Epoch 18/25\n",
            "5/5 [==============================] - 21s 4s/step - loss: 0.4191 - accuracy: 0.9250 - val_loss: 0.4046 - val_accuracy: 0.9000\n",
            "Epoch 19/25\n",
            "5/5 [==============================] - 21s 4s/step - loss: 0.4766 - accuracy: 0.8000 - val_loss: 0.3975 - val_accuracy: 0.9000\n",
            "Epoch 20/25\n",
            "5/5 [==============================] - 21s 4s/step - loss: 0.4113 - accuracy: 0.8500 - val_loss: 0.4008 - val_accuracy: 0.9000\n",
            "Epoch 21/25\n",
            "5/5 [==============================] - 21s 4s/step - loss: 0.3699 - accuracy: 0.9500 - val_loss: 0.3805 - val_accuracy: 0.9000\n",
            "Epoch 22/25\n",
            "5/5 [==============================] - 21s 4s/step - loss: 0.3694 - accuracy: 0.9000 - val_loss: 0.3725 - val_accuracy: 0.9000\n",
            "Epoch 23/25\n",
            "5/5 [==============================] - 21s 4s/step - loss: 0.3436 - accuracy: 0.9000 - val_loss: 0.3548 - val_accuracy: 0.9000\n",
            "Epoch 24/25\n",
            "5/5 [==============================] - 21s 4s/step - loss: 0.3635 - accuracy: 0.9500 - val_loss: 0.3449 - val_accuracy: 0.9000\n",
            "Epoch 25/25\n",
            "5/5 [==============================] - 21s 4s/step - loss: 0.3619 - accuracy: 0.8750 - val_loss: 0.3340 - val_accuracy: 0.9000\n"
          ],
          "name": "stdout"
        }
      ]
    },
    {
      "cell_type": "markdown",
      "metadata": {
        "id": "wXkGoz9gy-ad",
        "colab_type": "text"
      },
      "source": [
        "# **Make predictions on the testing set**"
      ]
    },
    {
      "cell_type": "code",
      "metadata": {
        "id": "9FiABKZ0tCFK",
        "colab_type": "code",
        "colab": {
          "base_uri": "https://localhost:8080/",
          "height": 34
        },
        "outputId": "edf6f820-af86-4d73-a4c8-26dec40ef17f"
      },
      "source": [
        "print(\"[INFO] evaluating...\")\n",
        "predIdxs = model.predict(testX, batch_size=batch)"
      ],
      "execution_count": 19,
      "outputs": [
        {
          "output_type": "stream",
          "text": [
            "[INFO] evaluating...\n"
          ],
          "name": "stdout"
        }
      ]
    },
    {
      "cell_type": "markdown",
      "metadata": {
        "id": "h17s7oULzLR2",
        "colab_type": "text"
      },
      "source": [
        "# **For each image in the testing set we need to find the index of the label with corresponding largest predicted probability**"
      ]
    },
    {
      "cell_type": "code",
      "metadata": {
        "id": "1wmOz_t6zJk-",
        "colab_type": "code",
        "colab": {}
      },
      "source": [
        "predIdxs = np.argmax(predIdxs, axis=1)"
      ],
      "execution_count": 0,
      "outputs": []
    },
    {
      "cell_type": "markdown",
      "metadata": {
        "id": "lVldNY6wzU_r",
        "colab_type": "text"
      },
      "source": [
        "# **Show classification report**"
      ]
    },
    {
      "cell_type": "code",
      "metadata": {
        "id": "R_HFy2YqzTwo",
        "colab_type": "code",
        "colab": {
          "base_uri": "https://localhost:8080/",
          "height": 168
        },
        "outputId": "65644736-ac99-4a62-adf8-ed8514c017d7"
      },
      "source": [
        "print(classification_report(testY.argmax(axis=1), predIdxs,\n",
        "\ttarget_names=lb.classes_))"
      ],
      "execution_count": 21,
      "outputs": [
        {
          "output_type": "stream",
          "text": [
            "              precision    recall  f1-score   support\n",
            "\n",
            "       covid       0.83      1.00      0.91         5\n",
            "      normal       1.00      0.80      0.89         5\n",
            "\n",
            "    accuracy                           0.90        10\n",
            "   macro avg       0.92      0.90      0.90        10\n",
            "weighted avg       0.92      0.90      0.90        10\n",
            "\n"
          ],
          "name": "stdout"
        }
      ]
    },
    {
      "cell_type": "markdown",
      "metadata": {
        "id": "HFjeEkSFzqj8",
        "colab_type": "text"
      },
      "source": [
        "# **Compute the confusion matrix and and use it to derive the raw accuracy, sensitivity, and specificity**"
      ]
    },
    {
      "cell_type": "code",
      "metadata": {
        "id": "C6uzWVPYzcSM",
        "colab_type": "code",
        "colab": {}
      },
      "source": [
        "cm = confusion_matrix(testY.argmax(axis=1), predIdxs)\n",
        "total = sum(sum(cm))\n",
        "acc = (cm[0, 0] + cm[1, 1]) / total\n",
        "sensitivity = cm[0, 0] / (cm[0, 0] + cm[0, 1])\n",
        "specificity = cm[1, 1] / (cm[1, 0] + cm[1, 1])"
      ],
      "execution_count": 0,
      "outputs": []
    },
    {
      "cell_type": "markdown",
      "metadata": {
        "id": "LfzdvxG50pqi",
        "colab_type": "text"
      },
      "source": [
        "# **Show the confusion matrix, accuracy, sensitivity, and specificit**"
      ]
    },
    {
      "cell_type": "code",
      "metadata": {
        "id": "2k8rCtFW0h4Y",
        "colab_type": "code",
        "colab": {
          "base_uri": "https://localhost:8080/",
          "height": 101
        },
        "outputId": "c86a1c08-132b-4632-f2fc-e8f573b8f2af"
      },
      "source": [
        "print(cm)\n",
        "print(\"acc: {:.4f}\".format(acc))\n",
        "print(\"sensitivity: {:.4f}\".format(sensitivity))\n",
        "print(\"specificity: {:.4f}\".format(specificity))"
      ],
      "execution_count": 23,
      "outputs": [
        {
          "output_type": "stream",
          "text": [
            "[[5 0]\n",
            " [1 4]]\n",
            "acc: 0.9000\n",
            "sensitivity: 1.0000\n",
            "specificity: 0.8000\n"
          ],
          "name": "stdout"
        }
      ]
    },
    {
      "cell_type": "markdown",
      "metadata": {
        "id": "evxdIjaD1DFU",
        "colab_type": "text"
      },
      "source": [
        "# **Plot the training loss and accuracy**"
      ]
    },
    {
      "cell_type": "code",
      "metadata": {
        "id": "i6XvzLmv0tYg",
        "colab_type": "code",
        "colab": {
          "base_uri": "https://localhost:8080/",
          "height": 299
        },
        "outputId": "ea08df5a-c7ff-4311-f855-ea684b62ab7f"
      },
      "source": [
        "N = epochs\n",
        "plt.style.use(\"ggplot\")\n",
        "plt.figure()\n",
        "plt.plot(np.arange(0, N), H.history[\"loss\"], label=\"train_loss\")\n",
        "plt.plot(np.arange(0, N), H.history[\"val_loss\"], label=\"val_loss\")\n",
        "plt.plot(np.arange(0, N), H.history[\"accuracy\"], label=\"train_acc\")\n",
        "plt.plot(np.arange(0, N), H.history[\"val_accuracy\"], label=\"val_acc\")\n",
        "plt.title(\"Training Loss and Accuracy on COVID-19 Dataset\")\n",
        "plt.xlabel(\"Epoch #\")\n",
        "plt.ylabel(\"Loss/Accuracy\")\n",
        "plt.legend(loc=\"lower left\")\n",
        "plt.savefig(args[\"plot\"])"
      ],
      "execution_count": 25,
      "outputs": [
        {
          "output_type": "display_data",
          "data": {
            "image/png": "[encoded data removed]",
            "text/plain": [
              "<Figure size 432x288 with 1 Axes>"
            ]
          },
          "metadata": {
            "tags": []
          }
        }
      ]
    },
    {
      "cell_type": "markdown",
      "metadata": {
        "id": "NZkgQ6bc1NFK",
        "colab_type": "text"
      },
      "source": [
        "# **Serialize the model to disk**"
      ]
    },
    {
      "cell_type": "code",
      "metadata": {
        "id": "YVJWDldP1HXd",
        "colab_type": "code",
        "colab": {
          "base_uri": "https://localhost:8080/",
          "height": 34
        },
        "outputId": "094c531c-47fb-44b5-fd67-069a6ee7e5d7"
      },
      "source": [
        "print(\"[INFO] saving COVID-19 detector model...\")\n",
        "model.save(args[\"model\"], save_format=\"h5\")"
      ],
      "execution_count": 26,
      "outputs": [
        {
          "output_type": "stream",
          "text": [
            "[INFO] saving COVID-19 detector model...\n"
          ],
          "name": "stdout"
        }
      ]
    },
    {
      "cell_type": "code",
      "metadata": {
        "id": "bpLk-8hi1Suq",
        "colab_type": "code",
        "colab": {}
      },
      "source": [
        ""
      ],
      "execution_count": 0,
      "outputs": []
    }
  ]
}