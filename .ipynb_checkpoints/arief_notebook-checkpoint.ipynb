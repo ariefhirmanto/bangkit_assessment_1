{
 "cells": [
  {
   "cell_type": "markdown",
   "metadata": {
    "colab_type": "text",
    "id": "qN6mJrrQ414d"
   },
   "source": [
    "## **COVID detection from X-Ray**\n",
    "Adaptation from https://www.pyimagesearch.com/2020/03/16/detecting-covid-19-in-x-ray-images-with-keras-tensorflow-and-deep-learning/\n",
    "\n",
    "Under tutelage of Dimas Apeco Putra and Gusti Triandi Winata"
   ]
  },
  {
   "cell_type": "markdown",
   "metadata": {},
   "source": [
    "In this project, We're using Tensorflow and Keras for COVID Lungs detection with Deep Learning. Dataset contains of positive COVID lungs and negative COVID lungs."
   ]
  },
  {
   "cell_type": "code",
   "execution_count": 1,
   "metadata": {
    "colab": {
     "base_uri": "https://localhost:8080/",
     "height": 185
    },
    "colab_type": "code",
    "id": "k-MYDPs0AHku",
    "outputId": "1035f908-03ec-4984-a09d-e2b4b37ef1ba"
   },
   "outputs": [
    {
     "name": "stdout",
     "output_type": "stream",
     "text": [
      "Cloning into 'bangkit_assessment_1'...\n",
      "remote: Enumerating objects: 73, done.\u001b[K\n",
      "remote: Counting objects: 100% (73/73), done.\u001b[K\n",
      "remote: Compressing objects: 100% (68/68), done.\u001b[K\n",
      "remote: Total 73 (delta 6), reused 5 (delta 2), pack-reused 0\u001b[K\n",
      "Unpacking objects: 100% (73/73), done.\n",
      "/content/bangkit_assessment_1\n",
      "arief_notebook.ipynb  dimas_notebook.ipynb  README.md\n",
      "\u001b[0m\u001b[01;34mdataset\u001b[0m/              gusti_notebook.ipynb\n"
     ]
    },
    {
     "data": {
      "text/plain": [
       "'/content/bangkit_assessment_1'"
      ]
     },
     "execution_count": 1,
     "metadata": {
      "tags": []
     },
     "output_type": "execute_result"
    }
   ],
   "source": [
    "GIT_PATH = \"https://github.com/sanggusti/bangkit_assessment_1.git\"\n",
    "!git clone \"{GIT_PATH}\"\n",
    "%cd ./bangkit_assessment_1\n",
    "%ls\n",
    "%pwd"
   ]
  },
  {
   "cell_type": "markdown",
   "metadata": {
    "colab_type": "text",
    "id": "Xkzf5T2KR5BR"
   },
   "source": [
    "# **Import necessary package**\n",
    "\n"
   ]
  },
  {
   "cell_type": "code",
   "execution_count": 0,
   "metadata": {
    "colab": {},
    "colab_type": "code",
    "id": "71IWtPHqRWqE"
   },
   "outputs": [],
   "source": [
    "from tensorflow.keras.preprocessing.image import ImageDataGenerator\n",
    "from tensorflow.keras.applications import VGG16\n",
    "from tensorflow.keras.layers import AveragePooling2D\n",
    "from tensorflow.keras.layers import Dropout\n",
    "from tensorflow.keras.layers import Flatten\n",
    "from tensorflow.keras.layers import Dense\n",
    "from tensorflow.keras.layers import Input\n",
    "from tensorflow.keras.models import Model\n",
    "from tensorflow.keras.optimizers import Adam\n",
    "from tensorflow.keras.utils import to_categorical\n",
    "from sklearn.preprocessing import LabelBinarizer\n",
    "from sklearn.model_selection import train_test_split\n",
    "from sklearn.metrics import classification_report\n",
    "from sklearn.metrics import confusion_matrix\n",
    "from imutils import paths\n",
    "import matplotlib.pyplot as plt\n",
    "import numpy as np\n",
    "import argparse\n",
    "import cv2\n",
    "import os"
   ]
  },
  {
   "cell_type": "markdown",
   "metadata": {
    "colab_type": "text",
    "id": "Hvf06o_BUdkj"
   },
   "source": [
    "# **Declare argument variables**"
   ]
  },
  {
   "cell_type": "code",
   "execution_count": 0,
   "metadata": {
    "colab": {},
    "colab_type": "code",
    "id": "dSMP8O5pUaDa"
   },
   "outputs": [],
   "source": [
    "args = {'dataset': 'dataset',\n",
    "        'plot': 'plot.png',\n",
    "        'model': 'covid19.model'}"
   ]
  },
  {
   "cell_type": "markdown",
   "metadata": {
    "colab_type": "text",
    "id": "buOYXJQ-R0M1"
   },
   "source": [
    "# **Initializing hyperparameter**"
   ]
  },
  {
   "cell_type": "code",
   "execution_count": 0,
   "metadata": {
    "colab": {},
    "colab_type": "code",
    "id": "0AzgCLLNULxj"
   },
   "outputs": [],
   "source": [
    "learning_rate = 0.001\n",
    "epochs = 25\n",
    "batch = 8"
   ]
  },
  {
   "cell_type": "markdown",
   "metadata": {
    "colab_type": "text",
    "id": "xVmVlJWoUoWG"
   },
   "source": [
    "# **Initialize the list of data from list of image in dataset**"
   ]
  },
  {
   "cell_type": "code",
   "execution_count": 41,
   "metadata": {
    "colab": {
     "base_uri": "https://localhost:8080/",
     "height": 70
    },
    "colab_type": "code",
    "id": "p-bzEBYRUSGr",
    "outputId": "5e7b9712-98ae-43c1-ef7b-9572a5216a70"
   },
   "outputs": [
    {
     "name": "stdout",
     "output_type": "stream",
     "text": [
      "[INFO] This might take a sec ...\n",
      "['dataset/normal/person1_bacteria_2.jpeg', 'dataset/normal/person939_bacteria_2864.jpeg', 'dataset/normal/person925_virus_1582.jpeg', 'dataset/normal/person1935_bacteria_4849.jpeg', 'dataset/normal/person1290_virus_2215.jpeg', 'dataset/normal/NORMAL2-IM-0315-0001.jpeg', 'dataset/normal/person1558_bacteria_4066.jpeg', 'dataset/normal/person1599_virus_2776.jpeg', 'dataset/normal/person339_bacteria_1574.jpeg', 'dataset/normal/IM-0466-0001.jpeg', 'dataset/normal/person651_bacteria_2543.jpeg', 'dataset/normal/NORMAL2-IM-0696-0001.jpeg', 'dataset/normal/person989_virus_1667.jpeg', 'dataset/normal/NORMAL2-IM-0869-0001.jpeg', 'dataset/normal/person1830_bacteria_4693.jpeg', 'dataset/normal/person259_bacteria_1220.jpeg', 'dataset/normal/person378_virus_761.jpeg', 'dataset/normal/person934_virus_1595.jpeg', 'dataset/normal/person525_bacteria_2216.jpeg', 'dataset/normal/person612_bacteria_2478.jpeg', 'dataset/normal/person438_bacteria_1893.jpeg', 'dataset/normal/person1102_bacteria_3043.jpeg', 'dataset/normal/IM-0240-0001.jpeg', 'dataset/normal/NORMAL2-IM-1179-0001.jpeg', 'dataset/normal/IM-0033-0001-0001.jpeg', 'dataset/covid/ryct.2020200028.fig1a.jpeg', 'dataset/covid/ryct.2020200034.fig2.jpeg', 'dataset/covid/ryct.2020200034.fig5-day7.jpeg', 'dataset/covid/1-s2.0-S0929664620300449-gr2_lrg-d.jpg', 'dataset/covid/auntminnie-c-2020_01_28_23_51_6665_2020_01_28_Vietnam_coronavirus.jpeg', 'dataset/covid/1-s2.0-S0929664620300449-gr2_lrg-c.jpg', 'dataset/covid/1-s2.0-S0140673620303706-fx1_lrg.jpg', 'dataset/covid/auntminnie-a-2020_01_28_23_51_6665_2020_01_28_Vietnam_coronavirus.jpeg', 'dataset/covid/1-s2.0-S0929664620300449-gr2_lrg-a.jpg', 'dataset/covid/nejmoa2001191_f4.jpeg', 'dataset/covid/nejmoa2001191_f1-PA.jpeg', 'dataset/covid/radiol.2020200490.fig3.jpeg', 'dataset/covid/lancet-case2a.jpg', 'dataset/covid/nejmoa2001191_f5-PA.jpeg', 'dataset/covid/1-s2.0-S0929664620300449-gr2_lrg-b.jpg', 'dataset/covid/ryct.2020200034.fig5-day4.jpeg', 'dataset/covid/nejmc2001573_f1b.jpeg', 'dataset/covid/auntminnie-d-2020_01_28_23_51_6665_2020_01_28_Vietnam_coronavirus.jpeg', 'dataset/covid/nejmoa2001191_f3-PA.jpeg', 'dataset/covid/lancet-case2b.jpg', 'dataset/covid/ryct.2020200034.fig5-day0.jpeg', 'dataset/covid/nCoV-radiol.2020200269.fig1-day7.jpeg', 'dataset/covid/nejmc2001573_f1a.jpeg', 'dataset/covid/radiopedia-covid-19-pneumonia-2.jpg', 'dataset/covid/auntminnie-b-2020_01_28_23_51_6665_2020_01_28_Vietnam_coronavirus.jpeg']\n"
     ]
    }
   ],
   "source": [
    "print(\"[INFO] This might take a sec ...\")\n",
    "imagePaths = list(paths.list_images(args[\"dataset\"]))\n",
    "print(imagePaths)\n",
    "data = []\n",
    "labels = []"
   ]
  },
  {
   "cell_type": "markdown",
   "metadata": {
    "colab_type": "text",
    "id": "eCcjBdeuas93"
   },
   "source": [
    "# **Looping over image path**"
   ]
  },
  {
   "cell_type": "code",
   "execution_count": 0,
   "metadata": {
    "colab": {},
    "colab_type": "code",
    "id": "X29b9pYVUW-G"
   },
   "outputs": [],
   "source": [
    "for imagePath in imagePaths:\n",
    "\t# extract the class label from the filename\n",
    "\tlabel = imagePath.split(os.path.sep)[-2]\n",
    "\n",
    "\t# load the image, swap color channels, and resize it to be a fixed\n",
    "\t# 224x224 pixels while ignoring aspect ratio\n",
    "\timage = cv2.imread(imagePath)\n",
    "\timage = cv2.cvtColor(image, cv2.COLOR_BGR2RGB)\n",
    "\timage = cv2.resize(image, (224, 224))\n",
    "\n",
    "\t# update the data and labels lists, respectively\n",
    "\tdata.append(image)\n",
    "\tlabels.append(label)"
   ]
  },
  {
   "cell_type": "markdown",
   "metadata": {
    "colab_type": "text",
    "id": "z8Zzx68bcUcT"
   },
   "source": [
    "# **Convert data and label to NumPy array while scaling the pixel intensities to range 0 to 255**"
   ]
  },
  {
   "cell_type": "code",
   "execution_count": 0,
   "metadata": {
    "colab": {},
    "colab_type": "code",
    "id": "ynOJRT5mbFtD"
   },
   "outputs": [],
   "source": [
    "data = np.array(data) / 255.0\n",
    "labels = np.array(labels)"
   ]
  },
  {
   "cell_type": "markdown",
   "metadata": {
    "colab_type": "text",
    "id": "U94d2qgGe3zU"
   },
   "source": [
    "# **One hot encoding on the label**"
   ]
  },
  {
   "cell_type": "code",
   "execution_count": 0,
   "metadata": {
    "colab": {},
    "colab_type": "code",
    "id": "A81JVe_Pex6V"
   },
   "outputs": [],
   "source": [
    "lb = LabelBinarizer()\n",
    "labels = lb.fit_transform(labels)\n",
    "labels = to_categorical(labels)"
   ]
  },
  {
   "cell_type": "markdown",
   "metadata": {
    "colab_type": "text",
    "id": "61RViP2CgySz"
   },
   "source": [
    "# **Allocate 80% of data into training and 20% for testing**"
   ]
  },
  {
   "cell_type": "code",
   "execution_count": 0,
   "metadata": {
    "colab": {},
    "colab_type": "code",
    "id": "SM_aOSy0f-e4"
   },
   "outputs": [],
   "source": [
    "(trainX, testX, trainY, testY) = train_test_split(data, labels,\n",
    "\ttest_size=0.20, stratify=labels, random_state=42)"
   ]
  },
  {
   "cell_type": "markdown",
   "metadata": {
    "colab_type": "text",
    "id": "S2qwy2JhhIIs"
   },
   "source": [
    "# **Initialize training data augmentation object**"
   ]
  },
  {
   "cell_type": "code",
   "execution_count": 0,
   "metadata": {
    "colab": {},
    "colab_type": "code",
    "id": "5FdWsvXVgxGy"
   },
   "outputs": [],
   "source": [
    "trainAug = ImageDataGenerator(\n",
    "\trotation_range=15,\n",
    "\tfill_mode=\"nearest\")"
   ]
  },
  {
   "cell_type": "markdown",
   "metadata": {
    "colab_type": "text",
    "id": "u_qbiPeshxv0"
   },
   "source": [
    "# **Load VGG16 Network**"
   ]
  },
  {
   "cell_type": "code",
   "execution_count": 0,
   "metadata": {
    "colab": {},
    "colab_type": "code",
    "id": "bjPcFSZ5hw33"
   },
   "outputs": [],
   "source": [
    "baseModel = VGG16(weights=\"imagenet\", include_top=False,\n",
    "\tinput_tensor=Input(shape=(224, 224, 3)))"
   ]
  },
  {
   "cell_type": "markdown",
   "metadata": {
    "colab_type": "text",
    "id": "8I26UV1amkn7"
   },
   "source": [
    "# **Construct head of the model**"
   ]
  },
  {
   "cell_type": "code",
   "execution_count": 0,
   "metadata": {
    "colab": {},
    "colab_type": "code",
    "id": "pCCJ0Htdrmnl"
   },
   "outputs": [],
   "source": [
    "headModel = baseModel.output\n",
    "headModel = AveragePooling2D(pool_size=(4, 4))(headModel)\n",
    "headModel = Flatten(name=\"flatten\")(headModel)\n",
    "headModel = Dense(64, activation=\"relu\")(headModel)\n",
    "headModel = Dropout(0.5)(headModel)\n",
    "headModel = Dense(2, activation=\"softmax\")(headModel)"
   ]
  },
  {
   "cell_type": "markdown",
   "metadata": {
    "colab_type": "text",
    "id": "NLcPq8r-rwcT"
   },
   "source": [
    "# **Place the head into top of base model**"
   ]
  },
  {
   "cell_type": "code",
   "execution_count": 0,
   "metadata": {
    "colab": {},
    "colab_type": "code",
    "id": "wP7akiPDrr9K"
   },
   "outputs": [],
   "source": [
    "model = Model(inputs=baseModel.input, outputs=headModel)"
   ]
  },
  {
   "cell_type": "markdown",
   "metadata": {
    "colab_type": "text",
    "id": "n4aOa4yor8pz"
   },
   "source": [
    "# **Loop over all layers in the base model and freeze them so they will not be updated during the first training process**"
   ]
  },
  {
   "cell_type": "code",
   "execution_count": 0,
   "metadata": {
    "colab": {},
    "colab_type": "code",
    "id": "u3aA0Opvr8J1"
   },
   "outputs": [],
   "source": [
    "for layer in baseModel.layers:\n",
    "\tlayer.trainable = False"
   ]
  },
  {
   "cell_type": "markdown",
   "metadata": {
    "colab_type": "text",
    "id": "NBIAEoX0sskk"
   },
   "source": [
    "# **Compile our model**"
   ]
  },
  {
   "cell_type": "code",
   "execution_count": 53,
   "metadata": {
    "colab": {
     "base_uri": "https://localhost:8080/",
     "height": 34
    },
    "colab_type": "code",
    "id": "cx1vvVLZspTu",
    "outputId": "e587dc0d-a5f2-48b2-dcbe-e4ee6080dd2e"
   },
   "outputs": [
    {
     "name": "stdout",
     "output_type": "stream",
     "text": [
      "[INFO] compiling...\n"
     ]
    }
   ],
   "source": [
    "print(\"[INFO] compiling...\")\n",
    "opt = Adam(lr=learning_rate, decay=learning_rate / epochs)\n",
    "model.compile(loss=\"binary_crossentropy\", optimizer=opt,\n",
    "\tmetrics=[\"accuracy\"])"
   ]
  },
  {
   "cell_type": "markdown",
   "metadata": {
    "colab_type": "text",
    "id": "6cATpH8us89R"
   },
   "source": [
    "# **Train the head of network**"
   ]
  },
  {
   "cell_type": "code",
   "execution_count": 54,
   "metadata": {
    "colab": {
     "base_uri": "https://localhost:8080/",
     "height": 874
    },
    "colab_type": "code",
    "id": "vSJCusOIs-xf",
    "outputId": "45f1947c-c72b-41a5-856b-45aa2616a267"
   },
   "outputs": [
    {
     "name": "stdout",
     "output_type": "stream",
     "text": [
      "[INFO] training head...\n",
      "Epoch 1/25\n",
      "5/5 [==============================] - 21s 4s/step - loss: 0.8498 - accuracy: 0.4000 - val_loss: 0.6746 - val_accuracy: 0.5000\n",
      "Epoch 2/25\n",
      "5/5 [==============================] - 21s 4s/step - loss: 0.6696 - accuracy: 0.6000 - val_loss: 0.6362 - val_accuracy: 0.9000\n",
      "Epoch 3/25\n",
      "5/5 [==============================] - 21s 4s/step - loss: 0.7055 - accuracy: 0.5000 - val_loss: 0.6262 - val_accuracy: 0.5000\n",
      "Epoch 4/25\n",
      "5/5 [==============================] - 21s 4s/step - loss: 0.6695 - accuracy: 0.6500 - val_loss: 0.6124 - val_accuracy: 0.5000\n",
      "Epoch 5/25\n",
      "5/5 [==============================] - 21s 4s/step - loss: 0.6618 - accuracy: 0.5750 - val_loss: 0.5873 - val_accuracy: 0.9000\n",
      "Epoch 6/25\n",
      "5/5 [==============================] - 21s 4s/step - loss: 0.6466 - accuracy: 0.6250 - val_loss: 0.5685 - val_accuracy: 0.9000\n",
      "Epoch 7/25\n",
      "5/5 [==============================] - 21s 4s/step - loss: 0.5665 - accuracy: 0.7500 - val_loss: 0.5558 - val_accuracy: 0.8000\n",
      "Epoch 8/25\n",
      "5/5 [==============================] - 23s 5s/step - loss: 0.5515 - accuracy: 0.7250 - val_loss: 0.5489 - val_accuracy: 0.7000\n",
      "Epoch 9/25\n",
      "5/5 [==============================] - 21s 4s/step - loss: 0.5776 - accuracy: 0.7750 - val_loss: 0.5295 - val_accuracy: 0.7000\n",
      "Epoch 10/25\n",
      "5/5 [==============================] - 21s 4s/step - loss: 0.5956 - accuracy: 0.7000 - val_loss: 0.5027 - val_accuracy: 0.9000\n",
      "Epoch 11/25\n",
      "5/5 [==============================] - 21s 4s/step - loss: 0.5240 - accuracy: 0.7000 - val_loss: 0.4935 - val_accuracy: 0.9000\n",
      "Epoch 12/25\n",
      "5/5 [==============================] - 21s 4s/step - loss: 0.5000 - accuracy: 0.8750 - val_loss: 0.4750 - val_accuracy: 1.0000\n",
      "Epoch 13/25\n",
      "5/5 [==============================] - 21s 4s/step - loss: 0.4669 - accuracy: 0.8500 - val_loss: 0.4623 - val_accuracy: 1.0000\n",
      "Epoch 14/25\n",
      "5/5 [==============================] - 21s 4s/step - loss: 0.4658 - accuracy: 0.8500 - val_loss: 0.4498 - val_accuracy: 0.9000\n",
      "Epoch 15/25\n",
      "5/5 [==============================] - 21s 4s/step - loss: 0.4881 - accuracy: 0.8500 - val_loss: 0.4321 - val_accuracy: 1.0000\n",
      "Epoch 16/25\n",
      "5/5 [==============================] - 21s 4s/step - loss: 0.4718 - accuracy: 0.8250 - val_loss: 0.4191 - val_accuracy: 0.9000\n",
      "Epoch 17/25\n",
      "5/5 [==============================] - 21s 4s/step - loss: 0.4486 - accuracy: 0.8500 - val_loss: 0.4033 - val_accuracy: 0.9000\n",
      "Epoch 18/25\n",
      "5/5 [==============================] - 21s 4s/step - loss: 0.4511 - accuracy: 0.8500 - val_loss: 0.3906 - val_accuracy: 1.0000\n",
      "Epoch 19/25\n",
      "5/5 [==============================] - 21s 4s/step - loss: 0.3855 - accuracy: 0.9250 - val_loss: 0.3730 - val_accuracy: 1.0000\n",
      "Epoch 20/25\n",
      "5/5 [==============================] - 21s 4s/step - loss: 0.4170 - accuracy: 0.8500 - val_loss: 0.3594 - val_accuracy: 0.9000\n",
      "Epoch 21/25\n",
      "5/5 [==============================] - 21s 4s/step - loss: 0.3453 - accuracy: 0.9250 - val_loss: 0.3465 - val_accuracy: 0.9000\n",
      "Epoch 22/25\n",
      "5/5 [==============================] - 21s 4s/step - loss: 0.4389 - accuracy: 0.8250 - val_loss: 0.3377 - val_accuracy: 0.9000\n",
      "Epoch 23/25\n",
      "5/5 [==============================] - 21s 4s/step - loss: 0.3579 - accuracy: 0.9000 - val_loss: 0.3300 - val_accuracy: 0.9000\n",
      "Epoch 24/25\n",
      "5/5 [==============================] - 21s 4s/step - loss: 0.2976 - accuracy: 0.9500 - val_loss: 0.3171 - val_accuracy: 0.9000\n",
      "Epoch 25/25\n",
      "5/5 [==============================] - 21s 4s/step - loss: 0.3056 - accuracy: 0.9500 - val_loss: 0.3066 - val_accuracy: 0.9000\n"
     ]
    }
   ],
   "source": [
    "print(\"[INFO] training head...\")\n",
    "H = model.fit_generator(\n",
    "\ttrainAug.flow(trainX, trainY, batch_size=batch),\n",
    "\tsteps_per_epoch=len(trainX) // batch,\n",
    "\tvalidation_data=(testX, testY),\n",
    "\tvalidation_steps=len(testX) // batch,\n",
    "\tepochs=epoch)"
   ]
  },
  {
   "cell_type": "markdown",
   "metadata": {
    "colab_type": "text",
    "id": "wXkGoz9gy-ad"
   },
   "source": [
    "# **Make predictions on the testing set**"
   ]
  },
  {
   "cell_type": "code",
   "execution_count": 55,
   "metadata": {
    "colab": {
     "base_uri": "https://localhost:8080/",
     "height": 34
    },
    "colab_type": "code",
    "id": "9FiABKZ0tCFK",
    "outputId": "bfb74f16-ae3c-4598-92bf-f2c29178d566"
   },
   "outputs": [
    {
     "name": "stdout",
     "output_type": "stream",
     "text": [
      "[INFO] evaluating...\n"
     ]
    }
   ],
   "source": [
    "print(\"[INFO] evaluating...\")\n",
    "predIdxs = model.predict(testX, batch_size=batch)"
   ]
  },
  {
   "cell_type": "markdown",
   "metadata": {
    "colab_type": "text",
    "id": "h17s7oULzLR2"
   },
   "source": [
    "# **For each image in the testing set we need to find the index of the label with corresponding largest predicted probability**"
   ]
  },
  {
   "cell_type": "code",
   "execution_count": 0,
   "metadata": {
    "colab": {},
    "colab_type": "code",
    "id": "1wmOz_t6zJk-"
   },
   "outputs": [],
   "source": [
    "predIdxs = np.argmax(predIdxs, axis=1)"
   ]
  },
  {
   "cell_type": "markdown",
   "metadata": {
    "colab_type": "text",
    "id": "lVldNY6wzU_r"
   },
   "source": [
    "# **Show classification report**"
   ]
  },
  {
   "cell_type": "code",
   "execution_count": 57,
   "metadata": {
    "colab": {
     "base_uri": "https://localhost:8080/",
     "height": 168
    },
    "colab_type": "code",
    "id": "R_HFy2YqzTwo",
    "outputId": "8dd22b13-cad2-4aa9-f4a1-b18d2c3cf2ac"
   },
   "outputs": [
    {
     "name": "stdout",
     "output_type": "stream",
     "text": [
      "              precision    recall  f1-score   support\n",
      "\n",
      "       covid       0.83      1.00      0.91         5\n",
      "      normal       1.00      0.80      0.89         5\n",
      "\n",
      "    accuracy                           0.90        10\n",
      "   macro avg       0.92      0.90      0.90        10\n",
      "weighted avg       0.92      0.90      0.90        10\n",
      "\n"
     ]
    }
   ],
   "source": [
    "print(classification_report(testY.argmax(axis=1), predIdxs,\n",
    "\ttarget_names=lb.classes_))"
   ]
  },
  {
   "cell_type": "markdown",
   "metadata": {
    "colab_type": "text",
    "id": "HFjeEkSFzqj8"
   },
   "source": [
    "# **Compute the confusion matrix and and use it to derive the raw accuracy, sensitivity, and specificity**"
   ]
  },
  {
   "cell_type": "code",
   "execution_count": 0,
   "metadata": {
    "colab": {},
    "colab_type": "code",
    "id": "C6uzWVPYzcSM"
   },
   "outputs": [],
   "source": [
    "cm = confusion_matrix(testY.argmax(axis=1), predIdxs)\n",
    "total = sum(sum(cm))\n",
    "acc = (cm[0, 0] + cm[1, 1]) / total\n",
    "sensitivity = cm[0, 0] / (cm[0, 0] + cm[0, 1])\n",
    "specificity = cm[1, 1] / (cm[1, 0] + cm[1, 1])"
   ]
  },
  {
   "cell_type": "markdown",
   "metadata": {
    "colab_type": "text",
    "id": "LfzdvxG50pqi"
   },
   "source": [
    "# **Show the confusion matrix, accuracy, sensitivity, and specificit**"
   ]
  },
  {
   "cell_type": "code",
   "execution_count": 59,
   "metadata": {
    "colab": {
     "base_uri": "https://localhost:8080/",
     "height": 101
    },
    "colab_type": "code",
    "id": "2k8rCtFW0h4Y",
    "outputId": "5ab82d2d-1adf-4ad4-a315-743750423cc3"
   },
   "outputs": [
    {
     "name": "stdout",
     "output_type": "stream",
     "text": [
      "[[5 0]\n",
      " [1 4]]\n",
      "acc: 0.9000\n",
      "sensitivity: 1.0000\n",
      "specificity: 0.8000\n"
     ]
    }
   ],
   "source": [
    "print(cm)\n",
    "print(\"acc: {:.4f}\".format(acc))\n",
    "print(\"sensitivity: {:.4f}\".format(sensitivity))\n",
    "print(\"specificity: {:.4f}\".format(specificity))"
   ]
  },
  {
   "cell_type": "markdown",
   "metadata": {
    "colab_type": "text",
    "id": "evxdIjaD1DFU"
   },
   "source": [
    "# **Plot the training loss and accuracy**"
   ]
  },
  {
   "cell_type": "code",
   "execution_count": 60,
   "metadata": {
    "colab": {
     "base_uri": "https://localhost:8080/",
     "height": 299
    },
    "colab_type": "code",
    "id": "i6XvzLmv0tYg",
    "outputId": "fc72b9ec-7ada-4204-af20-02042a32ab1d"
   },
   "outputs": [
    {
     "data": {
      "image/png": "[encoded data removed]",
      "text/plain": [
       "<Figure size 432x288 with 1 Axes>"
      ]
     },
     "metadata": {
      "tags": []
     },
     "output_type": "display_data"
    }
   ],
   "source": [
    "N = epoch\n",
    "plt.style.use(\"ggplot\")\n",
    "plt.figure()\n",
    "plt.plot(np.arange(0, N), H.history[\"loss\"], label=\"train_loss\")\n",
    "plt.plot(np.arange(0, N), H.history[\"val_loss\"], label=\"val_loss\")\n",
    "plt.plot(np.arange(0, N), H.history[\"accuracy\"], label=\"train_acc\")\n",
    "plt.plot(np.arange(0, N), H.history[\"val_accuracy\"], label=\"val_acc\")\n",
    "plt.title(\"Training Loss and Accuracy on COVID-19 Dataset\")\n",
    "plt.xlabel(\"Epoch #\")\n",
    "plt.ylabel(\"Loss/Accuracy\")\n",
    "plt.legend(loc=\"lower left\")\n",
    "plt.savefig(args[\"plot\"])"
   ]
  },
  {
   "cell_type": "markdown",
   "metadata": {
    "colab_type": "text",
    "id": "NZkgQ6bc1NFK"
   },
   "source": [
    "# **Serialize the model to disk**"
   ]
  },
  {
   "cell_type": "code",
   "execution_count": 61,
   "metadata": {
    "colab": {
     "base_uri": "https://localhost:8080/",
     "height": 34
    },
    "colab_type": "code",
    "id": "YVJWDldP1HXd",
    "outputId": "62ce3f51-3393-447b-f979-ee52d6930710"
   },
   "outputs": [
    {
     "name": "stdout",
     "output_type": "stream",
     "text": [
      "[INFO] saving COVID-19 detector model...\n"
     ]
    }
   ],
   "source": [
    "print(\"[INFO] saving COVID-19 detector model...\")\n",
    "model.save(args[\"model\"], save_format=\"h5\")"
   ]
  },
  {
   "cell_type": "code",
   "execution_count": 0,
   "metadata": {
    "colab": {},
    "colab_type": "code",
    "id": "bpLk-8hi1Suq"
   },
   "outputs": [],
   "source": []
  }
 ],
 "metadata": {
  "colab": {
   "collapsed_sections": [],
   "name": "Assesment 1.ipynb",
   "provenance": []
  },
  "kernelspec": {
   "display_name": "Python 3",
   "language": "python",
   "name": "python3"
  },
  "language_info": {
   "codemirror_mode": {
    "name": "ipython",
    "version": 3
   },
   "file_extension": ".py",
   "mimetype": "text/x-python",
   "name": "python",
   "nbconvert_exporter": "python",
   "pygments_lexer": "ipython3",
   "version": "3.5.6"
  }
 },
 "nbformat": 4,
 "nbformat_minor": 1
}
