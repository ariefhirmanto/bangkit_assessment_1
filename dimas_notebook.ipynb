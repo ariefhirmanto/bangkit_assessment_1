{
  "nbformat": 4,
  "nbformat_minor": 0,
  "metadata": {
    "orig_nbformat": 2,
    "file_extension": ".py",
    "mimetype": "text/x-python",
    "name": "python",
    "npconvert_exporter": "python",
    "pygments_lexer": "ipython3",
    "version": 3,
    "colab": {
      "name": "dimas_notebook.ipynb",
      "provenance": [],
      "toc_visible": true
    },
    "kernelspec": {
      "name": "python3",
      "display_name": "Python 3"
    }
  },
  "cells": [
    {
      "cell_type": "markdown",
      "metadata": {
        "id": "xwBAhsnTadi3",
        "colab_type": "text"
      },
      "source": [
        "## This is Dimas' Notebook"
      ]
    },
    {
      "cell_type": "markdown",
      "metadata": {
        "id": "WSMO2e0Ca3tU",
        "colab_type": "text"
      },
      "source": [
        "# Basic COVID-19 Detection by X-Ray Image Classification"
      ]
    },
    {
      "cell_type": "markdown",
      "metadata": {
        "id": "n_Kecj9IbFCT",
        "colab_type": "text"
      },
      "source": [
        "These code mainly adapted from Adrian Rosebrock's on https://www.pyimagesearch.com/2020/03/16/detecting-covid-19-in-x-ray-images-with-keras-tensorflow-and-deep-learning/"
      ]
    },
    {
      "cell_type": "markdown",
      "metadata": {
        "id": "u3tF64VybOiZ",
        "colab_type": "text"
      },
      "source": [
        "First we import the necessary packages. For building and training models, we use **tf.keras**. We also use **scikit-learn** for data preprocessing and report. **matplotlib** used for data visualization. For data building and processing we use **os**, **imutils**, **numpy**, and **cv2**."
      ]
    },
    {
      "cell_type": "code",
      "metadata": {
        "id": "ZKzt0tiAbYLY",
        "colab_type": "code",
        "colab": {}
      },
      "source": [
        "from tensorflow.keras.preprocessing.image import ImageDataGenerator\n",
        "from tensorflow.keras.applications import VGG16\n",
        "from tensorflow.keras.layers import AveragePooling2D\n",
        "from tensorflow.keras.layers import Dropout\n",
        "from tensorflow.keras.layers import Flatten\n",
        "from tensorflow.keras.layers import Dense\n",
        "from tensorflow.keras.layers import Input\n",
        "from tensorflow.keras.models import Model\n",
        "from tensorflow.keras.optimizers import Adam\n",
        "from tensorflow.keras.utils import to_categorical\n",
        "from sklearn.preprocessing import LabelBinarizer\n",
        "from sklearn.model_selection import train_test_split\n",
        "from sklearn.metrics import classification_report\n",
        "from sklearn.metrics import confusion_matrix\n",
        "from imutils import paths\n",
        "import matplotlib.pyplot as plt\n",
        "import numpy as np\n",
        "import cv2\n",
        "import os"
      ],
      "execution_count": 0,
      "outputs": []
    },
    {
      "cell_type": "markdown",
      "metadata": {
        "id": "dYxVoL89akwO",
        "colab_type": "text"
      },
      "source": [
        "## Import the dataset"
      ]
    },
    {
      "cell_type": "markdown",
      "metadata": {
        "id": "zd6HN-95LqYr",
        "colab_type": "text"
      },
      "source": [
        "We used dataset from public source provided by Dr. Cohen (https://github.com/ieee8023/covid-chestxray-dataset) and Paul Mooney (https://www.kaggle.com/paultimothymooney/chest-xray-pneumonia). To simplify dataset importing to the model, we first clone it to our GitHub repository."
      ]
    },
    {
      "cell_type": "code",
      "metadata": {
        "id": "tk3cGx4EawGX",
        "colab_type": "code",
        "outputId": "81be5fb5-f86e-4489-f782-41873a838500",
        "colab": {
          "base_uri": "https://localhost:8080/",
          "height": 204
        }
      },
      "source": [
        "GIT_PATH = \"https://github.com/sanggusti/bangkit_assessment_1.git\"\n",
        "print(\"[INFO] importing dataset...\")\n",
        "!git clone \"{GIT_PATH}\"\n",
        "%cd ./bangkit_assessment_1\n",
        "%ls\n",
        "%pwd"
      ],
      "execution_count": 2,
      "outputs": [
        {
          "output_type": "stream",
          "text": [
            "[INFO] importing dataset...\n",
            "Cloning into 'bangkit_assessment_1'...\n",
            "remote: Enumerating objects: 89, done.\u001b[K\n",
            "remote: Counting objects: 100% (89/89), done.\u001b[K\n",
            "remote: Compressing objects: 100% (81/81), done.\u001b[K\n",
            "remote: Total 89 (delta 13), reused 14 (delta 5), pack-reused 0\u001b[K\n",
            "Unpacking objects: 100% (89/89), done.\n",
            "/content/bangkit_assessment_1\n",
            "arief_notebook.ipynb  dimas_notebook.ipynb  README.md\n",
            "\u001b[0m\u001b[01;34mdataset\u001b[0m/              gusti_notebook.ipynb\n"
          ],
          "name": "stdout"
        },
        {
          "output_type": "execute_result",
          "data": {
            "text/plain": [
              "'/content/bangkit_assessment_1'"
            ]
          },
          "metadata": {
            "tags": []
          },
          "execution_count": 2
        }
      ]
    },
    {
      "cell_type": "markdown",
      "metadata": {
        "id": "tifjGH9MNMyr",
        "colab_type": "text"
      },
      "source": [
        "## Preprocess the data"
      ]
    },
    {
      "cell_type": "markdown",
      "metadata": {
        "id": "4VmIvYDDRJR6",
        "colab_type": "text"
      },
      "source": [
        "### Feature and label building"
      ]
    },
    {
      "cell_type": "markdown",
      "metadata": {
        "id": "8wiGR-g6H2G3",
        "colab_type": "text"
      },
      "source": [
        "List the directory of each image from the dataset"
      ]
    },
    {
      "cell_type": "code",
      "metadata": {
        "id": "rO_jTgD5H1Zo",
        "colab_type": "code",
        "colab": {
          "base_uri": "https://localhost:8080/",
          "height": 34
        },
        "outputId": "27105d6f-c040-44f4-8d00-e1256ae53e7d"
      },
      "source": [
        "print(\"[INFO] building feature and label...\")\n",
        "imagePaths = list(paths.list_images(\"dataset\"))\n",
        "data = []\n",
        "labels = []"
      ],
      "execution_count": 3,
      "outputs": [
        {
          "output_type": "stream",
          "text": [
            "[INFO] building feature and label...\n"
          ],
          "name": "stdout"
        }
      ]
    },
    {
      "cell_type": "markdown",
      "metadata": {
        "id": "KGqDDFakdv3I",
        "colab_type": "text"
      },
      "source": [
        "Building labels and pixel data by looping over the image paths from the dataset"
      ]
    },
    {
      "cell_type": "code",
      "metadata": {
        "id": "5IjoPu1Cdu2C",
        "colab_type": "code",
        "colab": {}
      },
      "source": [
        "for imagePath in imagePaths:\n",
        "\t# extract the class label from the filename\n",
        "\tlabel = imagePath.split(os.path.sep)[-2]\n",
        "\n",
        "\t# load the image, swap color channels, and resize it to be a fixed\n",
        "\t# 224x224 pixels while ignoring aspect ratio\n",
        "\timage = cv2.imread(imagePath)\n",
        "\timage = cv2.cvtColor(image, cv2.COLOR_BGR2RGB)\n",
        "\timage = cv2.resize(image, (224, 224))\n",
        "\n",
        "\t# update the data and labels lists, respectively\n",
        "\tdata.append(image)\n",
        "\tlabels.append(label)"
      ],
      "execution_count": 0,
      "outputs": []
    },
    {
      "cell_type": "markdown",
      "metadata": {
        "id": "0920nm76d4Hs",
        "colab_type": "text"
      },
      "source": [
        "Normalization of pixel value and convert to numpy array"
      ]
    },
    {
      "cell_type": "code",
      "metadata": {
        "id": "6QNL7ibcdzIj",
        "colab_type": "code",
        "colab": {}
      },
      "source": [
        "data = np.array(data) / 255.0\n",
        "labels = np.array(labels)"
      ],
      "execution_count": 0,
      "outputs": []
    },
    {
      "cell_type": "markdown",
      "metadata": {
        "id": "n3zmzxdQd9ON",
        "colab_type": "text"
      },
      "source": [
        "Build one-hot encoding on the labels"
      ]
    },
    {
      "cell_type": "code",
      "metadata": {
        "id": "0J2yOK7md_y6",
        "colab_type": "code",
        "colab": {}
      },
      "source": [
        "lb = LabelBinarizer()\n",
        "labels = lb.fit_transform(labels)\n",
        "labels = to_categorical(labels)"
      ],
      "execution_count": 0,
      "outputs": []
    },
    {
      "cell_type": "markdown",
      "metadata": {
        "id": "bHZEuVVDeBv9",
        "colab_type": "text"
      },
      "source": [
        "### Data partition\n",
        "Partition the data into training and testing splits using 80% of the data for training and the remaining 20% for testing"
      ]
    },
    {
      "cell_type": "code",
      "metadata": {
        "id": "FK0h4tnQeH56",
        "colab_type": "code",
        "colab": {}
      },
      "source": [
        "(trainX, testX, trainY, testY) = train_test_split(data, labels,\n",
        "\ttest_size=0.20, stratify=labels, random_state=42)"
      ],
      "execution_count": 0,
      "outputs": []
    },
    {
      "cell_type": "markdown",
      "metadata": {
        "id": "0SoyFWCZeLe0",
        "colab_type": "text"
      },
      "source": [
        "### Training data augmentation\n",
        "Initialize the training data augmentation object"
      ]
    },
    {
      "cell_type": "code",
      "metadata": {
        "id": "kzi3yvZYeSOy",
        "colab_type": "code",
        "colab": {}
      },
      "source": [
        "trainAug = ImageDataGenerator(\n",
        "\trotation_range=15,\n",
        "\tfill_mode=\"nearest\")"
      ],
      "execution_count": 0,
      "outputs": []
    },
    {
      "cell_type": "markdown",
      "metadata": {
        "id": "gWaFMG29M8Mb",
        "colab_type": "text"
      },
      "source": [
        "## Build the model"
      ]
    },
    {
      "cell_type": "markdown",
      "metadata": {
        "id": "_echi_0APEis",
        "colab_type": "text"
      },
      "source": [
        "### Set hyperparameters"
      ]
    },
    {
      "cell_type": "markdown",
      "metadata": {
        "id": "HiErcLgzGsvr",
        "colab_type": "text"
      },
      "source": [
        "Initiate hyperparameters: learning rate, number of epochs, and batch size"
      ]
    },
    {
      "cell_type": "code",
      "metadata": {
        "id": "FweemVCFPH9c",
        "colab_type": "code",
        "colab": {}
      },
      "source": [
        "INIT_LR = 1e-3 # Learning rate\n",
        "EPOCHS = 40  # Number of Epochs\n",
        "BS = 8  # Batch size"
      ],
      "execution_count": 0,
      "outputs": []
    },
    {
      "cell_type": "markdown",
      "metadata": {
        "id": "YByvq-9oRwn_",
        "colab_type": "text"
      },
      "source": [
        "### Load the network model"
      ]
    },
    {
      "cell_type": "markdown",
      "metadata": {
        "id": "QsDuC6ngeUls",
        "colab_type": "text"
      },
      "source": [
        "Load the VGG16 network, ensuring the head FC layer sets are left off"
      ]
    },
    {
      "cell_type": "code",
      "metadata": {
        "id": "InLljPNaeYI2",
        "colab_type": "code",
        "outputId": "396cf35d-4cf9-428a-a912-757eaa51e9f0",
        "colab": {
          "base_uri": "https://localhost:8080/",
          "height": 71
        }
      },
      "source": [
        "baseModel = VGG16(weights=\"imagenet\", include_top=False,\n",
        "\tinput_tensor=Input(shape=(224, 224, 3)))"
      ],
      "execution_count": 10,
      "outputs": [
        {
          "output_type": "stream",
          "text": [
            "Downloading data from https://storage.googleapis.com/tensorflow/keras-applications/vgg16/vgg16_weights_tf_dim_ordering_tf_kernels_notop.h5\n",
            "58892288/58889256 [==============================] - 1s 0us/step\n"
          ],
          "name": "stdout"
        }
      ]
    },
    {
      "cell_type": "markdown",
      "metadata": {
        "id": "B571TxNMebs_",
        "colab_type": "text"
      },
      "source": [
        "Construct the head of the model that will be placed on top of the the base model"
      ]
    },
    {
      "cell_type": "code",
      "metadata": {
        "id": "9B6da8LIehJ-",
        "colab_type": "code",
        "colab": {}
      },
      "source": [
        "headModel = baseModel.output\n",
        "headModel = AveragePooling2D(pool_size=(4, 4))(headModel)\n",
        "headModel = Flatten(name=\"flatten\")(headModel)\n",
        "headModel = Dense(64, activation=\"relu\")(headModel)\n",
        "headModel = Dropout(0.5)(headModel)\n",
        "headModel = Dense(2, activation=\"softmax\")(headModel)"
      ],
      "execution_count": 0,
      "outputs": []
    },
    {
      "cell_type": "markdown",
      "metadata": {
        "id": "cnPX4oJ9envZ",
        "colab_type": "text"
      },
      "source": [
        "Place the head FC model on top of the base model (this will become the actual model we will train)"
      ]
    },
    {
      "cell_type": "code",
      "metadata": {
        "id": "QLnZSsnqelKN",
        "colab_type": "code",
        "colab": {}
      },
      "source": [
        "model = Model(inputs=baseModel.input, outputs=headModel)"
      ],
      "execution_count": 0,
      "outputs": []
    },
    {
      "cell_type": "markdown",
      "metadata": {
        "id": "eW82dDTceriO",
        "colab_type": "text"
      },
      "source": [
        "Loop over all layers in the base model and freeze them so they will *not* be updated during the first training process"
      ]
    },
    {
      "cell_type": "code",
      "metadata": {
        "id": "hTSg-mYDeudx",
        "colab_type": "code",
        "colab": {}
      },
      "source": [
        "for layer in baseModel.layers:\n",
        "\tlayer.trainable = False"
      ],
      "execution_count": 0,
      "outputs": []
    },
    {
      "cell_type": "markdown",
      "metadata": {
        "id": "Nw9zNjpcewtl",
        "colab_type": "text"
      },
      "source": [
        "### Compile the model"
      ]
    },
    {
      "cell_type": "code",
      "metadata": {
        "id": "_NJBceqJe0mJ",
        "colab_type": "code",
        "outputId": "c88c3cd6-9d03-41ee-8c0f-c818d81e0758",
        "colab": {
          "base_uri": "https://localhost:8080/",
          "height": 34
        }
      },
      "source": [
        "print(\"[INFO] compiling model...\")\n",
        "opt = Adam(lr=INIT_LR, decay=INIT_LR / EPOCHS)\n",
        "model.compile(loss=\"binary_crossentropy\", optimizer=opt,\n",
        "\tmetrics=[\"accuracy\"])"
      ],
      "execution_count": 14,
      "outputs": [
        {
          "output_type": "stream",
          "text": [
            "[INFO] compiling model...\n"
          ],
          "name": "stdout"
        }
      ]
    },
    {
      "cell_type": "markdown",
      "metadata": {
        "id": "VMD1Ty_oMvZm",
        "colab_type": "text"
      },
      "source": [
        "## Train the model"
      ]
    },
    {
      "cell_type": "markdown",
      "metadata": {
        "id": "ataiZOiKe5du",
        "colab_type": "text"
      },
      "source": [
        "### Feed the model\n",
        "Train the head of the network by fitting the data."
      ]
    },
    {
      "cell_type": "code",
      "metadata": {
        "id": "MpiC-2O3e780",
        "colab_type": "code",
        "outputId": "4cdb4fc7-12a2-4b53-c96e-f2880f4393f8",
        "colab": {
          "base_uri": "https://localhost:8080/",
          "height": 1000
        }
      },
      "source": [
        "print(\"[INFO] training the network...\")\n",
        "H = model.fit_generator(\n",
        "      trainAug.flow(trainX, trainY, batch_size=BS),\n",
        "      steps_per_epoch=len(trainX) // BS,\n",
        "      validation_data=(testX, testY),\n",
        "      validation_steps=len(testX) // BS,\n",
        "      epochs=EPOCHS)"
      ],
      "execution_count": 15,
      "outputs": [
        {
          "output_type": "stream",
          "text": [
            "[INFO] training the network...\n",
            "WARNING:tensorflow:From <ipython-input-15-336666228c05>:7: Model.fit_generator (from tensorflow.python.keras.engine.training) is deprecated and will be removed in a future version.\n",
            "Instructions for updating:\n",
            "Please use Model.fit, which supports generators.\n",
            "Epoch 1/40\n",
            "5/5 [==============================] - 21s 4s/step - loss: 0.8860 - accuracy: 0.4250 - val_loss: 0.7389 - val_accuracy: 0.5000\n",
            "Epoch 2/40\n",
            "5/5 [==============================] - 21s 4s/step - loss: 0.7218 - accuracy: 0.5250 - val_loss: 0.7194 - val_accuracy: 0.5000\n",
            "Epoch 3/40\n",
            "5/5 [==============================] - 21s 4s/step - loss: 0.6989 - accuracy: 0.6250 - val_loss: 0.7169 - val_accuracy: 0.5000\n",
            "Epoch 4/40\n",
            "5/5 [==============================] - 21s 4s/step - loss: 0.7275 - accuracy: 0.5000 - val_loss: 0.6775 - val_accuracy: 0.6000\n",
            "Epoch 5/40\n",
            "5/5 [==============================] - 21s 4s/step - loss: 0.6887 - accuracy: 0.6250 - val_loss: 0.6540 - val_accuracy: 0.6000\n",
            "Epoch 6/40\n",
            "5/5 [==============================] - 21s 4s/step - loss: 0.6496 - accuracy: 0.5500 - val_loss: 0.6467 - val_accuracy: 0.6000\n",
            "Epoch 7/40\n",
            "5/5 [==============================] - 21s 4s/step - loss: 0.6208 - accuracy: 0.6500 - val_loss: 0.6319 - val_accuracy: 0.6000\n",
            "Epoch 8/40\n",
            "5/5 [==============================] - 21s 4s/step - loss: 0.6262 - accuracy: 0.6250 - val_loss: 0.6134 - val_accuracy: 0.6000\n",
            "Epoch 9/40\n",
            "5/5 [==============================] - 21s 4s/step - loss: 0.6148 - accuracy: 0.6500 - val_loss: 0.5989 - val_accuracy: 0.8000\n",
            "Epoch 10/40\n",
            "5/5 [==============================] - 21s 4s/step - loss: 0.5419 - accuracy: 0.7750 - val_loss: 0.5896 - val_accuracy: 0.7000\n",
            "Epoch 11/40\n",
            "5/5 [==============================] - 21s 4s/step - loss: 0.5559 - accuracy: 0.7000 - val_loss: 0.5782 - val_accuracy: 0.8000\n",
            "Epoch 12/40\n",
            "5/5 [==============================] - 21s 4s/step - loss: 0.5001 - accuracy: 0.8250 - val_loss: 0.5697 - val_accuracy: 0.7000\n",
            "Epoch 13/40\n",
            "5/5 [==============================] - 21s 4s/step - loss: 0.5235 - accuracy: 0.8250 - val_loss: 0.5596 - val_accuracy: 0.7000\n",
            "Epoch 14/40\n",
            "5/5 [==============================] - 21s 4s/step - loss: 0.4760 - accuracy: 0.8750 - val_loss: 0.5367 - val_accuracy: 0.8000\n",
            "Epoch 15/40\n",
            "5/5 [==============================] - 21s 4s/step - loss: 0.4720 - accuracy: 0.8500 - val_loss: 0.5235 - val_accuracy: 0.8000\n",
            "Epoch 16/40\n",
            "5/5 [==============================] - 21s 4s/step - loss: 0.4445 - accuracy: 0.9000 - val_loss: 0.5262 - val_accuracy: 0.7000\n",
            "Epoch 17/40\n",
            "5/5 [==============================] - 21s 4s/step - loss: 0.4743 - accuracy: 0.8000 - val_loss: 0.5193 - val_accuracy: 0.7000\n",
            "Epoch 18/40\n",
            "5/5 [==============================] - 21s 4s/step - loss: 0.4189 - accuracy: 0.9500 - val_loss: 0.4909 - val_accuracy: 0.8000\n",
            "Epoch 19/40\n",
            "5/5 [==============================] - 21s 4s/step - loss: 0.4687 - accuracy: 0.8250 - val_loss: 0.4810 - val_accuracy: 0.7000\n",
            "Epoch 20/40\n",
            "5/5 [==============================] - 21s 4s/step - loss: 0.4372 - accuracy: 0.8500 - val_loss: 0.4759 - val_accuracy: 0.7000\n",
            "Epoch 21/40\n",
            "5/5 [==============================] - 21s 4s/step - loss: 0.4130 - accuracy: 0.8500 - val_loss: 0.4542 - val_accuracy: 0.8000\n",
            "Epoch 22/40\n",
            "5/5 [==============================] - 21s 4s/step - loss: 0.4382 - accuracy: 0.8500 - val_loss: 0.4348 - val_accuracy: 0.8000\n",
            "Epoch 23/40\n",
            "5/5 [==============================] - 21s 4s/step - loss: 0.4020 - accuracy: 0.9000 - val_loss: 0.4168 - val_accuracy: 0.8000\n",
            "Epoch 24/40\n",
            "5/5 [==============================] - 21s 4s/step - loss: 0.3670 - accuracy: 0.9250 - val_loss: 0.4093 - val_accuracy: 0.8000\n",
            "Epoch 25/40\n",
            "5/5 [==============================] - 21s 4s/step - loss: 0.3469 - accuracy: 0.9000 - val_loss: 0.4188 - val_accuracy: 0.7000\n",
            "Epoch 26/40\n",
            "5/5 [==============================] - 21s 4s/step - loss: 0.3637 - accuracy: 0.8750 - val_loss: 0.3915 - val_accuracy: 0.8000\n",
            "Epoch 27/40\n",
            "5/5 [==============================] - 21s 4s/step - loss: 0.3753 - accuracy: 0.8750 - val_loss: 0.3799 - val_accuracy: 0.8000\n",
            "Epoch 28/40\n",
            "5/5 [==============================] - 21s 4s/step - loss: 0.3785 - accuracy: 0.9000 - val_loss: 0.3636 - val_accuracy: 0.9000\n",
            "Epoch 29/40\n",
            "5/5 [==============================] - 21s 4s/step - loss: 0.2922 - accuracy: 0.9500 - val_loss: 0.3638 - val_accuracy: 0.8000\n",
            "Epoch 30/40\n",
            "5/5 [==============================] - 21s 4s/step - loss: 0.3519 - accuracy: 0.9250 - val_loss: 0.3545 - val_accuracy: 0.8000\n",
            "Epoch 31/40\n",
            "5/5 [==============================] - 21s 4s/step - loss: 0.3382 - accuracy: 0.8500 - val_loss: 0.3374 - val_accuracy: 0.9000\n",
            "Epoch 32/40\n",
            "5/5 [==============================] - 21s 4s/step - loss: 0.2951 - accuracy: 0.9500 - val_loss: 0.3127 - val_accuracy: 1.0000\n",
            "Epoch 33/40\n",
            "5/5 [==============================] - 21s 4s/step - loss: 0.3103 - accuracy: 0.9250 - val_loss: 0.3129 - val_accuracy: 0.9000\n",
            "Epoch 34/40\n",
            "5/5 [==============================] - 21s 4s/step - loss: 0.2732 - accuracy: 0.9500 - val_loss: 0.3216 - val_accuracy: 0.9000\n",
            "Epoch 35/40\n",
            "5/5 [==============================] - 21s 4s/step - loss: 0.3004 - accuracy: 0.9500 - val_loss: 0.3383 - val_accuracy: 0.7000\n",
            "Epoch 36/40\n",
            "5/5 [==============================] - 21s 4s/step - loss: 0.2866 - accuracy: 0.9500 - val_loss: 0.3533 - val_accuracy: 0.7000\n",
            "Epoch 37/40\n",
            "5/5 [==============================] - 21s 4s/step - loss: 0.2657 - accuracy: 0.8750 - val_loss: 0.2777 - val_accuracy: 1.0000\n",
            "Epoch 38/40\n",
            "5/5 [==============================] - 21s 4s/step - loss: 0.2836 - accuracy: 0.9500 - val_loss: 0.2460 - val_accuracy: 1.0000\n",
            "Epoch 39/40\n",
            "5/5 [==============================] - 21s 4s/step - loss: 0.2150 - accuracy: 0.9750 - val_loss: 0.2550 - val_accuracy: 1.0000\n",
            "Epoch 40/40\n",
            "5/5 [==============================] - 21s 4s/step - loss: 0.2759 - accuracy: 0.9250 - val_loss: 0.2608 - val_accuracy: 1.0000\n"
          ],
          "name": "stdout"
        }
      ]
    },
    {
      "cell_type": "markdown",
      "metadata": {
        "id": "-3I-K36we9tb",
        "colab_type": "text"
      },
      "source": [
        "### Make predictions\n",
        "Perform prediction on the testing set"
      ]
    },
    {
      "cell_type": "code",
      "metadata": {
        "id": "6mCKD5H_fEqi",
        "colab_type": "code",
        "outputId": "f91052ec-8a58-4c7f-ee47-6702514d63f8",
        "colab": {
          "base_uri": "https://localhost:8080/",
          "height": 34
        }
      },
      "source": [
        "print(\"[INFO] perform prediction and network evaluation...\")\n",
        "predIdxs = model.predict(testX, batch_size=BS)"
      ],
      "execution_count": 16,
      "outputs": [
        {
          "output_type": "stream",
          "text": [
            "[INFO] perform prediction and network evaluation...\n"
          ],
          "name": "stdout"
        }
      ]
    },
    {
      "cell_type": "markdown",
      "metadata": {
        "id": "CARCcOVBfSGN",
        "colab_type": "text"
      },
      "source": [
        "For each image in the testing set we need to find the index of the label with corresponding largest predicted probability"
      ]
    },
    {
      "cell_type": "code",
      "metadata": {
        "id": "P16ASSMkfVn3",
        "colab_type": "code",
        "colab": {}
      },
      "source": [
        "predIdxs = np.argmax(predIdxs, axis=1)"
      ],
      "execution_count": 0,
      "outputs": []
    },
    {
      "cell_type": "markdown",
      "metadata": {
        "id": "nuSDabxYGJcG",
        "colab_type": "text"
      },
      "source": [
        "### Prediction evaluation"
      ]
    },
    {
      "cell_type": "markdown",
      "metadata": {
        "id": "lBfi_OfBfXWt",
        "colab_type": "text"
      },
      "source": [
        "Show a nicely formatted classification report"
      ]
    },
    {
      "cell_type": "code",
      "metadata": {
        "id": "UNZy2DvCfad1",
        "colab_type": "code",
        "outputId": "01016502-4cf4-4711-f22d-cb42dd9d5cbc",
        "colab": {
          "base_uri": "https://localhost:8080/",
          "height": 170
        }
      },
      "source": [
        "print(classification_report(testY.argmax(axis=1), predIdxs,\n",
        "\ttarget_names=lb.classes_))"
      ],
      "execution_count": 18,
      "outputs": [
        {
          "output_type": "stream",
          "text": [
            "              precision    recall  f1-score   support\n",
            "\n",
            "       covid       1.00      1.00      1.00         5\n",
            "      normal       1.00      1.00      1.00         5\n",
            "\n",
            "    accuracy                           1.00        10\n",
            "   macro avg       1.00      1.00      1.00        10\n",
            "weighted avg       1.00      1.00      1.00        10\n",
            "\n"
          ],
          "name": "stdout"
        }
      ]
    },
    {
      "cell_type": "markdown",
      "metadata": {
        "id": "JXxRMQ6yfcLU",
        "colab_type": "text"
      },
      "source": [
        "Compute the confusion matrix and and use it to derive the raw accuracy, sensitivity, and specificity"
      ]
    },
    {
      "cell_type": "code",
      "metadata": {
        "id": "VfnVOJ0Vff2Z",
        "colab_type": "code",
        "colab": {}
      },
      "source": [
        "cm = confusion_matrix(testY.argmax(axis=1), predIdxs)\n",
        "total = sum(sum(cm))\n",
        "acc = (cm[0, 0] + cm[1, 1]) / total\n",
        "sensitivity = cm[0, 0] / (cm[0, 0] + cm[0, 1])\n",
        "specificity = cm[1, 1] / (cm[1, 0] + cm[1, 1])"
      ],
      "execution_count": 0,
      "outputs": []
    },
    {
      "cell_type": "markdown",
      "metadata": {
        "id": "rSz9geRZfhim",
        "colab_type": "text"
      },
      "source": [
        "Show the confusion matrix, accuracy, sensitivity, and specificity"
      ]
    },
    {
      "cell_type": "code",
      "metadata": {
        "id": "Ikms3tLsfj0J",
        "colab_type": "code",
        "outputId": "c551e4e1-c126-444d-d05d-c3a05e4cc128",
        "colab": {
          "base_uri": "https://localhost:8080/",
          "height": 102
        }
      },
      "source": [
        "print(cm)\n",
        "print(\"acc: {:.4f}\".format(acc))\n",
        "print(\"sensitivity: {:.4f}\".format(sensitivity))\n",
        "print(\"specificity: {:.4f}\".format(specificity))"
      ],
      "execution_count": 20,
      "outputs": [
        {
          "output_type": "stream",
          "text": [
            "[[5 0]\n",
            " [0 5]]\n",
            "acc: 1.0000\n",
            "sensitivity: 1.0000\n",
            "specificity: 1.0000\n"
          ],
          "name": "stdout"
        }
      ]
    },
    {
      "cell_type": "markdown",
      "metadata": {
        "id": "XqTP9N8afxir",
        "colab_type": "text"
      },
      "source": [
        "### Performance visualization\n",
        "Plot the training loss and accuracy"
      ]
    },
    {
      "cell_type": "code",
      "metadata": {
        "id": "_5E3isrrf0Rs",
        "colab_type": "code",
        "outputId": "6fe87297-39c6-4bcc-cb4f-11045aaab8f1",
        "colab": {
          "base_uri": "https://localhost:8080/",
          "height": 299
        }
      },
      "source": [
        "N = EPOCHS\n",
        "plt.style.use(\"ggplot\")\n",
        "plt.figure()\n",
        "plt.plot(np.arange(0, N), H.history[\"loss\"], label=\"train_loss\")\n",
        "plt.plot(np.arange(0, N), H.history[\"val_loss\"], label=\"val_loss\")\n",
        "plt.plot(np.arange(0, N), H.history[\"accuracy\"], label=\"train_acc\")\n",
        "plt.plot(np.arange(0, N), H.history[\"val_accuracy\"], label=\"val_acc\")\n",
        "plt.title(\"Training Loss and Accuracy on COVID-19 Dataset\")\n",
        "plt.xlabel(\"Epoch #\")\n",
        "plt.ylabel(\"Loss/Accuracy\")\n",
        "plt.legend(loc=\"lower left\")\n",
        "plt.savefig(\"assignment5_covid19_performance.png\")"
      ],
      "execution_count": 21,
      "outputs": [
        {
          "output_type": "display_data",
          "data": {
            "image/png": "[encoded data removed]",
            "text/plain": [
              "<Figure size 432x288 with 1 Axes>"
            ]
          },
          "metadata": {
            "tags": []
          }
        }
      ]
    },
    {
      "cell_type": "markdown",
      "metadata": {
        "id": "ghrAbecUf3BC",
        "colab_type": "text"
      },
      "source": [
        "## Exporting model"
      ]
    },
    {
      "cell_type": "markdown",
      "metadata": {
        "id": "iXAaGA81N6Xv",
        "colab_type": "text"
      },
      "source": [
        "Save trained model for further use."
      ]
    },
    {
      "cell_type": "code",
      "metadata": {
        "id": "ai3znVEXgAIt",
        "colab_type": "code",
        "outputId": "066ba07c-424f-48e9-8113-aaf6f23380fb",
        "colab": {
          "base_uri": "https://localhost:8080/",
          "height": 34
        }
      },
      "source": [
        "print(\"[INFO] saving model...\")\n",
        "model.save(\"assignment5_covid19.model\", save_format=\"h5\")"
      ],
      "execution_count": 22,
      "outputs": [
        {
          "output_type": "stream",
          "text": [
            "[INFO] saving model...\n"
          ],
          "name": "stdout"
        }
      ]
    },
    {
      "cell_type": "markdown",
      "metadata": {
        "id": "Wv-dnD4cOBSA",
        "colab_type": "text"
      },
      "source": [
        "Show genereated files."
      ]
    },
    {
      "cell_type": "code",
      "metadata": {
        "id": "JNgbyT7M8K90",
        "colab_type": "code",
        "outputId": "b0c54848-bc98-4741-c211-7edcd93e9f47",
        "colab": {
          "base_uri": "https://localhost:8080/",
          "height": 68
        }
      },
      "source": [
        "%ls"
      ],
      "execution_count": 23,
      "outputs": [
        {
          "output_type": "stream",
          "text": [
            "arief_notebook.ipynb                 \u001b[0m\u001b[01;34mdataset\u001b[0m/              README.md\n",
            "assignment5_covid19.model            dimas_notebook.ipynb\n",
            "assignment5_covid19_performance.png  gusti_notebook.ipynb\n"
          ],
          "name": "stdout"
        }
      ]
    }
  ]
}